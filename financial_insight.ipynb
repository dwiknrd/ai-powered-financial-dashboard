{
 "cells": [
  {
   "cell_type": "markdown",
   "id": "fdbe84c8",
   "metadata": {},
   "source": [
    "\n",
    "\n",
    "<div style=\"padding: 60px;\n",
    "  text-align: center;\n",
    "  background: #d4afb9;\n",
    "  color: #003049;\n",
    "  font-size: 20px;\">\n",
    "  <h1>🖥️ AI-Powered Financial Insights</h1>\n",
    "  <h3>Harnessing LLMs for a Competitive Edge in the Market</h3>\n",
    "   <hr>\n",
    "   <h5>🔬 Develop by Dwi Gustin Nurdialit</h5>\n",
    "</div>\n",
    "\n",
    "___"
   ]
  },
  {
   "cell_type": "markdown",
   "id": "f21c7ff6",
   "metadata": {},
   "source": [
    "## Getting Started\n",
    "\n",
    "### What is AI-Powered Financial Insight?\n",
    "\n",
    "Di era modern ini, data keuangan semakin kompleks dan jumlahnya sangat besar. Untuk memahami data tersebut secara cepat dan akurat, kita bisa menggunakan teknologi **AI-powered financial insight**, yaitu pendekatan analisis data keuangan dengan bantuan kecerdasan buatan, khususnya **Large Language Models (LLMs)**.\n",
    "\n",
    "Dengan menggunakan AI, kita bisa:\n",
    "\n",
    "* Mengambil ringkasan laporan keuangan secara otomatis.\n",
    "* Menjelaskan tren yang terlihat pada grafik keuangan.\n",
    "* Mendeteksi potensi risiko keuangan hanya dari data mentah.\n",
    "\n",
    "Tujuan akhirnya adalah membantu kita membuat keputusan yang lebih baik, lebih cepat, dan berdasarkan data yang solid.\n",
    "\n",
    "### Why Use Large Language Models (LLMs) in Finance?\n",
    "\n",
    "LLM (Large Language Model) adalah model AI yang dilatih dengan jutaan data teks, sehingga mampu memahami dan menghasilkan teks seperti manusia. Kita mungkin mengenal ChatGPT, Groq, atau Claude sebagai contoh LLM.\n",
    "\n",
    "Dalam konteks keuangan, LLM sangat bermanfaat karena:\n",
    "\n",
    "* Dapat membaca dan memahami laporan keuangan berbahasa natural.\n",
    "* Menjawab pertanyaan tentang kondisi keuangan suatu perusahaan.\n",
    "* Menginterpretasikan grafik seperti tren revenue atau cash flow.\n",
    "* Menghasilkan insight keuangan secara otomatis tanpa perlu coding kompleks.\n",
    "\n",
    "Dengan kata lain, LLM membuat analisis keuangan menjadi lebih **mudah, cepat, dan efisien**, bahkan untuk kita yang tidak punya latar belakang finansial maupun teknis.\n",
    "\n",
    "### The Workflow: A Roadmap from Raw Data to Interactive Dashboard\n",
    "\n",
    "Berikut adalah alur kerja (workflow) yang akan kita gunakan sepanjang course ini:\n",
    "\n",
    "1. **Ambil Data Keuangan**\n",
    "   Mengambil data dari Sectors API menggunakan Python.\n",
    "\n",
    "2. **Eksplorasi dan Persiapan Data**\n",
    "   Data yang kita ambil akan dibersihkan dan disiapkan agar bisa dibaca oleh AI.\n",
    "\n",
    "3. **Analisis dengan LLM**\n",
    "   Menggunakan LangChain dan Groq untuk menghasilkan insight secara otomatis.\n",
    "\n",
    "4. **Visualisasi Data**\n",
    "   Membuat grafik yang memperlihatkan tren keuangan menggunakan AI.\n",
    "\n",
    "5. **Bangun Dashboard**\n",
    "   Membangun dashboard interaktif menggunakan Streamlit dan menampilkan hasil analisis AI secara langsung.\n",
    "\n",
    "### Tools and Technologies Overview\n",
    "\n",
    "Untuk menyelesaikan course ini, kita akan menggunakan beberapa tools berikut:\n",
    "\n",
    "- **Python**: Bahasa pemrograman utama yang akan kita gunakan. Mudah dipahami, fleksibel, dan banyak digunakan dalam analisis data serta AI\n",
    "- **Jupyter Notebook**: Tempat kita akan menulis dan menjalankan kode Python. Sangat cocok untuk eksperimen data dan dokumentasi proses analisis.\n",
    "- **Streamlit**: Framework Python untuk membuat aplikasi web secara cepat. Kita akan menggunakannya untuk membangun dashboard dari data dan insight yang kita miliki.\n",
    "- **LangChain**: Framework yang memudahkan kita menghubungkan LLM dengan data.\n",
    "- **Groq**: Salah satu penyedia LLM yang sangat cepat dan efisien. Keduanya akan digunakan untuk menghasilkan insight otomatis dari data keuangan.\n",
    "- **Sectors API**: Sumber data keuangan yang akan kita gunakan. Dengan API ini, kita bisa mengambil data tentang perusahaan, laporan keuangan, dan informasi sektor industri secara real time."
   ]
  },
  {
   "cell_type": "markdown",
   "id": "8e450e70",
   "metadata": {},
   "source": [
    "# Getting Financial Data via API\n",
    "\n",
    "Data keuangan adalah pondasi dari semua insight yang akan kita hasilkan. Di bagian ini, kita akan belajar bagaimana cara mengambil data keuangan secara otomatis menggunakan **API** — semacam jembatan digital yang menghubungkan kita dengan data real-time dari internet.\n",
    "\n",
    "## 🔌 What is an API and How It Works\n",
    "\n",
    "**API (Application Programming Interface)** adalah jembatan yang memungkinkan dua aplikasi berkomunikasi. Bayangkan seperti kita memesan makanan lewat aplikasi, dan restoran mengantarkan pesanan ke rumah — konsep yang sama berlaku saat kita minta data ke server melalui API.\n",
    "\n",
    "🔁 Cara kerjanya:\n",
    "\n",
    "* Kita kirim **request** (permintaan data)\n",
    "* Server API membalas dengan **response** (data, biasanya dalam format JSON)"
   ]
  },
  {
   "cell_type": "markdown",
   "id": "d5eec46a",
   "metadata": {},
   "source": [
    "## 🌐 Introduction to the Sectors API\n",
    "\n",
    "[Sectors API](https://sectors.app/api) adalah layanan yang menyediakan berbagai informasi terkait sektor industri dan keuangan perusahaan. \n",
    "\n",
    "Anggap saja ini sebagai perpustakaan atau sumber data utama kita.Kita bisa melihat semua \"menu\" data yang tersedia di dokumentasi resmi mereka: https://sectors.app/api\n",
    "\n",
    "* Melihat daftar subsektor industri\n",
    "* Mengambil daftar perusahaan berdasarkan subsektor\n",
    "* Mengakses data keuangan mereka\n",
    "* dll"
   ]
  },
  {
   "cell_type": "markdown",
   "id": "4adeee05",
   "metadata": {},
   "source": [
    "## 🔑 Step 1: Obtaining Your Personal API Key\n",
    "\n",
    "Untuk menggunakan Sectors API, kita perlu mendaftar dan mendapatkan **API Key** sebagai tanda pengenal kita.\n",
    "\n",
    "📝 Langkah-langkah:\n",
    "\n",
    "1. Kunjungi [sectors.app/api](https://sectors.app/api)\n",
    "2. Login atau daftar akun\n",
    "3. Salin API Key Anda\n",
    "\n",
    "Kita akan menyimpan API Key ini agar bisa digunakan nanti dalam kode Python."
   ]
  },
  {
   "cell_type": "markdown",
   "id": "b249a5e9",
   "metadata": {},
   "source": [
    "## ⚙️ Step 2: Setting Up Your Python Environment\n",
    "\n",
    "### Menyimpan API Key dengan Aman\n",
    "\n",
    "Agar API Key kita aman dan tidak terlihat langsung dalam kode, kita akan menyimpannya dalam file `.env`. Untuk membaca file ini, kita gunakan library `dotenv`."
   ]
  },
  {
   "cell_type": "code",
   "execution_count": 1,
   "id": "32e84fd0",
   "metadata": {},
   "outputs": [],
   "source": [
    "from dotenv import load_dotenv\n",
    "import os"
   ]
  },
  {
   "cell_type": "markdown",
   "id": "e2439bb7",
   "metadata": {},
   "source": [
    "Gunakan `load_dotenv()` untuk memuat semua variabel dari file .env kita."
   ]
  },
  {
   "cell_type": "code",
   "execution_count": 2,
   "id": "a50d1cf7",
   "metadata": {},
   "outputs": [
    {
     "data": {
      "text/plain": [
       "True"
      ]
     },
     "execution_count": 2,
     "metadata": {},
     "output_type": "execute_result"
    }
   ],
   "source": [
    "load_dotenv()"
   ]
  },
  {
   "cell_type": "markdown",
   "id": "a7fd7a5d",
   "metadata": {},
   "source": [
    "Sekarang, kita ambil key tersebut dari environment dan simpan dalam variabel. Gunakan `os.getenv(\"NAMA_VARIABEL\")` untuk \"ambil nilai dari variabel X\""
   ]
  },
  {
   "cell_type": "code",
   "execution_count": 3,
   "id": "14eae1af",
   "metadata": {},
   "outputs": [],
   "source": [
    "SECTORS_API_KEY = os.getenv(\"SECTORS_API_KEY\")"
   ]
  },
  {
   "cell_type": "markdown",
   "id": "838708f4",
   "metadata": {},
   "source": [
    "### Menyiapkan Akses Cepat\n",
    "\n",
    "Supaya lebih mudah, kita akan menyimpan alamat utama API dan header otorisasi kita dalam variabel. Jadi, kita tidak perlu mengetiknya berulang kali."
   ]
  },
  {
   "cell_type": "code",
   "execution_count": 4,
   "id": "7bbee571",
   "metadata": {},
   "outputs": [],
   "source": [
    "BASE_URL = \"https://api.sectors.app/v1\"\n",
    "HEADERS = {\"Authorization\": SECTORS_API_KEY}"
   ]
  },
  {
   "cell_type": "markdown",
   "id": "8bd39e1e",
   "metadata": {},
   "source": [
    "> 💡 `BASE_URL` menyimpan alamat utama API, dan `HEADERS` menyimpan API Key yang akan dikirim saat kita melakukan permintaan ke API."
   ]
  },
  {
   "cell_type": "markdown",
   "id": "f76c99e2",
   "metadata": {},
   "source": [
    "## 📥 Step 3: Extracting and Loading Financial Data\n",
    "### 🔍 Subsector\n",
    "\n",
    "Sebagai contoh awal, kita akan mengambil daftar subsektor industri dari API:\n"
   ]
  },
  {
   "cell_type": "markdown",
   "id": "34858fda",
   "metadata": {},
   "source": [
    "Import library '`requests`' yang berfungsi sebagai \"kurir\" untuk mengirim permintaan kita"
   ]
  },
  {
   "cell_type": "code",
   "execution_count": 5,
   "id": "0f39e9ec",
   "metadata": {},
   "outputs": [],
   "source": [
    "import requests"
   ]
  },
  {
   "cell_type": "markdown",
   "id": "2df143d1",
   "metadata": {},
   "source": [
    "Kita tentukan alamat lengkap pesanan kita berdasarkan dokumentasi. Gunakan `f\"{...}\"` untuk mempermudah menggabungkan string di Python."
   ]
  },
  {
   "cell_type": "code",
   "execution_count": 6,
   "id": "1c9d6dc0",
   "metadata": {},
   "outputs": [],
   "source": [
    "url_subsectors = f\"{BASE_URL}/subsectors/\""
   ]
  },
  {
   "cell_type": "markdown",
   "id": "e3246e0f",
   "metadata": {},
   "source": [
    "Sekarang kita kirim permintaannya!\n",
    "\n",
    "- Gunakan `requests.get()` -> perintah untuk \"Tolong ambilkan data dari URL ini\".\n",
    "- Kita juga menyertakan `HEADERS` agar server tahu siapa kita."
   ]
  },
  {
   "cell_type": "code",
   "execution_count": 7,
   "id": "403351a1",
   "metadata": {},
   "outputs": [],
   "source": [
    "resp = requests.get(url_subsectors, headers=HEADERS)"
   ]
  },
  {
   "cell_type": "code",
   "execution_count": 8,
   "id": "e6c253fb",
   "metadata": {},
   "outputs": [
    {
     "data": {
      "text/plain": [
       "<Response [200]>"
      ]
     },
     "execution_count": 8,
     "metadata": {},
     "output_type": "execute_result"
    }
   ],
   "source": [
    "resp"
   ]
  },
  {
   "cell_type": "markdown",
   "id": "600a022f",
   "metadata": {},
   "source": [
    "`resp` sekarang berisi jawaban dari server. Untuk melihat isinya dalam format yang bisa dibaca Python, kita gunakan `.json()`."
   ]
  },
  {
   "cell_type": "code",
   "execution_count": 9,
   "id": "b693efaf",
   "metadata": {},
   "outputs": [
    {
     "data": {
      "text/plain": [
       "[{'sector': 'transportation-logistic', 'subsector': 'transportation'},\n",
       " {'sector': 'infrastructures', 'subsector': 'telecommunication'},\n",
       " {'sector': 'infrastructures',\n",
       "  'subsector': 'heavy-constructions-civil-engineering'},\n",
       " {'sector': 'properties-real-estate', 'subsector': 'properties-real-estate'},\n",
       " {'sector': 'consumer-non-cyclicals', 'subsector': 'food-beverage'},\n",
       " {'sector': 'infrastructures', 'subsector': 'utilities'},\n",
       " {'sector': 'healthcare', 'subsector': 'healthcare-equipment-providers'},\n",
       " {'sector': 'financials', 'subsector': 'financing-service'},\n",
       " {'sector': 'consumer-non-cyclicals', 'subsector': 'tobacco'},\n",
       " {'sector': 'healthcare', 'subsector': 'pharmaceuticals-health-care-research'},\n",
       " {'sector': 'consumer-non-cyclicals',\n",
       "  'subsector': 'nondurable-household-products'},\n",
       " {'sector': 'consumer-cyclicals', 'subsector': 'media-entertainment'},\n",
       " {'sector': 'industrials', 'subsector': 'industrial-goods'},\n",
       " {'sector': 'consumer-non-cyclicals', 'subsector': 'food-staples-retailing'},\n",
       " {'sector': 'industrials', 'subsector': 'industrial-services'},\n",
       " {'sector': 'technology', 'subsector': 'software-it-services'},\n",
       " {'sector': 'financials', 'subsector': 'insurance'},\n",
       " {'sector': 'infrastructures', 'subsector': 'transportation-infrastructure'},\n",
       " {'sector': 'energy', 'subsector': 'oil-gas-coal'},\n",
       " {'sector': 'consumer-cyclicals', 'subsector': 'leisure-goods'},\n",
       " {'sector': 'basic-materials', 'subsector': 'basic-materials'},\n",
       " {'sector': 'consumer-cyclicals', 'subsector': 'household-goods'},\n",
       " {'sector': 'consumer-cyclicals', 'subsector': 'consumer-services'},\n",
       " {'sector': 'financials', 'subsector': 'banks'},\n",
       " {'sector': 'transportation-logistic', 'subsector': 'logistics-deliveries'},\n",
       " {'sector': 'consumer-cyclicals', 'subsector': 'retailing'},\n",
       " {'sector': 'financials', 'subsector': 'investment-service'},\n",
       " {'sector': 'energy', 'subsector': 'alternative-energy'},\n",
       " {'sector': 'financials', 'subsector': 'holding-investment-companies'},\n",
       " {'sector': 'consumer-cyclicals', 'subsector': 'automobiles-components'},\n",
       " {'sector': 'technology', 'subsector': 'technology-hardware-equipment'},\n",
       " {'sector': 'industrials', 'subsector': 'multi-sector-holdings'},\n",
       " {'sector': 'consumer-cyclicals', 'subsector': 'apparel-luxury-goods'}]"
      ]
     },
     "execution_count": 9,
     "metadata": {},
     "output_type": "execute_result"
    }
   ],
   "source": [
    "resp.json()"
   ]
  },
  {
   "cell_type": "markdown",
   "id": "11969c72",
   "metadata": {},
   "source": [
    "Lalu ubah menjadi `DataFrame` agar mudah dianalisis:"
   ]
  },
  {
   "cell_type": "code",
   "execution_count": 10,
   "id": "bb848520",
   "metadata": {},
   "outputs": [
    {
     "data": {
      "text/html": [
       "<div>\n",
       "<style scoped>\n",
       "    .dataframe tbody tr th:only-of-type {\n",
       "        vertical-align: middle;\n",
       "    }\n",
       "\n",
       "    .dataframe tbody tr th {\n",
       "        vertical-align: top;\n",
       "    }\n",
       "\n",
       "    .dataframe thead th {\n",
       "        text-align: right;\n",
       "    }\n",
       "</style>\n",
       "<table border=\"1\" class=\"dataframe\">\n",
       "  <thead>\n",
       "    <tr style=\"text-align: right;\">\n",
       "      <th></th>\n",
       "      <th>sector</th>\n",
       "      <th>subsector</th>\n",
       "    </tr>\n",
       "  </thead>\n",
       "  <tbody>\n",
       "    <tr>\n",
       "      <th>0</th>\n",
       "      <td>transportation-logistic</td>\n",
       "      <td>transportation</td>\n",
       "    </tr>\n",
       "    <tr>\n",
       "      <th>1</th>\n",
       "      <td>infrastructures</td>\n",
       "      <td>telecommunication</td>\n",
       "    </tr>\n",
       "    <tr>\n",
       "      <th>2</th>\n",
       "      <td>infrastructures</td>\n",
       "      <td>heavy-constructions-civil-engineering</td>\n",
       "    </tr>\n",
       "    <tr>\n",
       "      <th>3</th>\n",
       "      <td>properties-real-estate</td>\n",
       "      <td>properties-real-estate</td>\n",
       "    </tr>\n",
       "    <tr>\n",
       "      <th>4</th>\n",
       "      <td>consumer-non-cyclicals</td>\n",
       "      <td>food-beverage</td>\n",
       "    </tr>\n",
       "  </tbody>\n",
       "</table>\n",
       "</div>"
      ],
      "text/plain": [
       "                    sector                              subsector\n",
       "0  transportation-logistic                         transportation\n",
       "1          infrastructures                      telecommunication\n",
       "2          infrastructures  heavy-constructions-civil-engineering\n",
       "3   properties-real-estate                 properties-real-estate\n",
       "4   consumer-non-cyclicals                          food-beverage"
      ]
     },
     "execution_count": 10,
     "metadata": {},
     "output_type": "execute_result"
    }
   ],
   "source": [
    "import pandas as pd\n",
    "\n",
    "subsectors_df = pd.DataFrame(resp.json())\n",
    "subsectors_df.head()"
   ]
  },
  {
   "cell_type": "code",
   "execution_count": 11,
   "id": "e855e4ea",
   "metadata": {},
   "outputs": [
    {
     "data": {
      "text/plain": [
       "['alternative-energy',\n",
       " 'apparel-luxury-goods',\n",
       " 'automobiles-components',\n",
       " 'banks',\n",
       " 'basic-materials',\n",
       " 'consumer-services',\n",
       " 'financing-service',\n",
       " 'food-beverage',\n",
       " 'food-staples-retailing',\n",
       " 'healthcare-equipment-providers',\n",
       " 'heavy-constructions-civil-engineering',\n",
       " 'holding-investment-companies',\n",
       " 'household-goods',\n",
       " 'industrial-goods',\n",
       " 'industrial-services',\n",
       " 'insurance',\n",
       " 'investment-service',\n",
       " 'leisure-goods',\n",
       " 'logistics-deliveries',\n",
       " 'media-entertainment',\n",
       " 'multi-sector-holdings',\n",
       " 'nondurable-household-products',\n",
       " 'oil-gas-coal',\n",
       " 'pharmaceuticals-health-care-research',\n",
       " 'properties-real-estate',\n",
       " 'retailing',\n",
       " 'software-it-services',\n",
       " 'technology-hardware-equipment',\n",
       " 'telecommunication',\n",
       " 'tobacco',\n",
       " 'transportation',\n",
       " 'transportation-infrastructure',\n",
       " 'utilities']"
      ]
     },
     "execution_count": 11,
     "metadata": {},
     "output_type": "execute_result"
    }
   ],
   "source": [
    "subsectors_df[\"subsector\"].sort_values().tolist()"
   ]
  },
  {
   "cell_type": "markdown",
   "id": "fb0740ad",
   "metadata": {},
   "source": [
    "### 🏢 Companies\n",
    "\n",
    "Selanjutnya, kita akan mengambil daftar perusahaan berdasarkan subsektor. Misalnya kita ingin melihat perusahaan di subsektor **banks**:"
   ]
  },
  {
   "cell_type": "markdown",
   "id": "842cbc50",
   "metadata": {},
   "source": [
    "Tentukan alamat perusahaan"
   ]
  },
  {
   "cell_type": "code",
   "execution_count": 12,
   "id": "9c77f574",
   "metadata": {},
   "outputs": [],
   "source": [
    "url_companies = f\"{BASE_URL}/companies/\""
   ]
  },
  {
   "cell_type": "markdown",
   "id": "c41553b2",
   "metadata": {},
   "source": [
    "Kita perlu menambahkan \"catatan khusus\" pada pesanan kita. Di API, ini disebut '`params`' (parameter)."
   ]
  },
  {
   "cell_type": "code",
   "execution_count": 13,
   "id": "9b494f2c",
   "metadata": {},
   "outputs": [],
   "source": [
    "selected_subsector = \"banks\"\n",
    "params = {\"sub_sector\": selected_subsector}"
   ]
  },
  {
   "cell_type": "markdown",
   "id": "e9a0f35d",
   "metadata": {},
   "source": [
    "Kirim pesanan"
   ]
  },
  {
   "cell_type": "code",
   "execution_count": 14,
   "id": "3dfa0b93",
   "metadata": {},
   "outputs": [],
   "source": [
    "resp = requests.get(url_companies, headers=HEADERS, params=params)"
   ]
  },
  {
   "cell_type": "markdown",
   "id": "f6ed3289",
   "metadata": {},
   "source": [
    "Ubah menjadi `dataframe`:"
   ]
  },
  {
   "cell_type": "code",
   "execution_count": 15,
   "id": "102e9197",
   "metadata": {},
   "outputs": [
    {
     "data": {
      "text/html": [
       "<div>\n",
       "<style scoped>\n",
       "    .dataframe tbody tr th:only-of-type {\n",
       "        vertical-align: middle;\n",
       "    }\n",
       "\n",
       "    .dataframe tbody tr th {\n",
       "        vertical-align: top;\n",
       "    }\n",
       "\n",
       "    .dataframe thead th {\n",
       "        text-align: right;\n",
       "    }\n",
       "</style>\n",
       "<table border=\"1\" class=\"dataframe\">\n",
       "  <thead>\n",
       "    <tr style=\"text-align: right;\">\n",
       "      <th></th>\n",
       "      <th>symbol</th>\n",
       "      <th>company_name</th>\n",
       "      <th>sorted_by</th>\n",
       "    </tr>\n",
       "  </thead>\n",
       "  <tbody>\n",
       "    <tr>\n",
       "      <th>0</th>\n",
       "      <td>AGRO.JK</td>\n",
       "      <td>PT Bank Raya Indonesia Tbk</td>\n",
       "      <td>AGRO.JK</td>\n",
       "    </tr>\n",
       "    <tr>\n",
       "      <th>1</th>\n",
       "      <td>AGRS.JK</td>\n",
       "      <td>PT Bank IBK Indonesia Tbk.</td>\n",
       "      <td>AGRS.JK</td>\n",
       "    </tr>\n",
       "    <tr>\n",
       "      <th>2</th>\n",
       "      <td>AMAR.JK</td>\n",
       "      <td>PT Bank Amar Indonesia Tbk.</td>\n",
       "      <td>AMAR.JK</td>\n",
       "    </tr>\n",
       "    <tr>\n",
       "      <th>3</th>\n",
       "      <td>ARTO.JK</td>\n",
       "      <td>PT Bank Jago Tbk.</td>\n",
       "      <td>ARTO.JK</td>\n",
       "    </tr>\n",
       "    <tr>\n",
       "      <th>4</th>\n",
       "      <td>BABP.JK</td>\n",
       "      <td>PT Bank MNC Internasional Tbk.</td>\n",
       "      <td>BABP.JK</td>\n",
       "    </tr>\n",
       "  </tbody>\n",
       "</table>\n",
       "</div>"
      ],
      "text/plain": [
       "    symbol                    company_name sorted_by\n",
       "0  AGRO.JK      PT Bank Raya Indonesia Tbk   AGRO.JK\n",
       "1  AGRS.JK      PT Bank IBK Indonesia Tbk.   AGRS.JK\n",
       "2  AMAR.JK     PT Bank Amar Indonesia Tbk.   AMAR.JK\n",
       "3  ARTO.JK               PT Bank Jago Tbk.   ARTO.JK\n",
       "4  BABP.JK  PT Bank MNC Internasional Tbk.   BABP.JK"
      ]
     },
     "execution_count": 15,
     "metadata": {},
     "output_type": "execute_result"
    }
   ],
   "source": [
    "companies_df = pd.DataFrame(resp.json())\n",
    "companies_df.head()"
   ]
  },
  {
   "cell_type": "markdown",
   "id": "b32db739",
   "metadata": {},
   "source": [
    "# 🧠 AI-Powered Analysis with LLMs\n",
    "\n",
    "Di module sebelumnya, kita sudah berhasil mengambil data dari API. Sekarang, kita akan masuk ke tahap paling seru: **menggunakan AI (Large Language Model)** untuk membaca dan menginterpretasi data keuangan.\n",
    "\n",
    "LLM memungkinkan kita untuk:\n",
    "\n",
    "* Membuat ringkasan otomatis dari data\n",
    "* Menjawab pertanyaan keuangan\n",
    "* Mendeteksi pola dan risiko\n",
    "\n",
    "Semua bisa dilakukan hanya dengan beberapa baris kode — dan tentu saja dengan bantuan **prompt** (instruksi berbentuk teks).\n",
    "\n",
    "**Introduction to AI-Generated Financial Insights**\n",
    "\n",
    "AI-generated financial insight adalah hasil analisis data keuangan yang dibuat oleh model AI secara otomatis. Dengan bantuan LLM, kita bisa:\n",
    "\n",
    "* Menyusun ringkasan laporan keuangan \n",
    "* Menjelaskan tren grafik \n",
    "* Mengubah data menjadi teks yang mudah dimengerti oleh manusia\n",
    "\n",
    "Ini sangat membantu, terutama untuk kita yang tidak punya latar belakang finansial — karena AI bisa menjelaskan data dalam bahasa yang lebih sederhana dan intuitif."
   ]
  },
  {
   "cell_type": "markdown",
   "id": "d4e4f2db",
   "metadata": {},
   "source": [
    "## 🤖 Why Use AI for Financial Data Interpretation\n",
    "\n",
    "Data keuangan seringkali bersifat kompleks. Tanpa bantuan AI, kita perlu waktu lama untuk:\n",
    "\n",
    "* Membaca angka demi angka dari laporan\n",
    "* Membuat kesimpulan sendiri\n",
    "* Menyusun insight yang berguna\n",
    "\n",
    "Dengan LLM, kita cukup menyiapkan data dan menyusun pertanyaan (prompt), lalu biarkan AI yang mengolahnya. Hasilnya bisa berupa:\n",
    "\n",
    "* Analisis deskriptif\n",
    "* Penjelasan tren\n",
    "* Ringkasan performa perusahaan\n",
    "\n",
    "📌 Ini membuat pekerjaan analis, mahasiswa, bahkan pebisnis jadi jauh lebih cepat dan efisien."
   ]
  },
  {
   "cell_type": "markdown",
   "id": "29ec1e63",
   "metadata": {},
   "source": [
    "### 🔗 LangChain\n",
    "\n",
    "[LangChain](https://python.langchain.com/docs/introduction/) adalah framework Python yang memudahkan kita dalam:\n",
    "\n",
    "* Menyusun prompt\n",
    "* Menghubungkan LLM dengan data kita\n",
    "* Menyusun pipeline otomatis dari input hingga output\n",
    "\n",
    "LangChain sangat cocok untuk membangun alur kerja berbasis LLM, seperti tanya-jawab keuangan, chatbot, atau ringkasan otomatis.\n",
    "\n",
    "### ⚡ Groq\n",
    "\n",
    "[Groq](https://console.groq.com/docs/quickstart) adalah layanan yang menyediakan akses ke model-model LLM super cepat seperti LLaMA 3 dan lainnya. Kita akan menggunakan Groq sebagai penyedia model AI-nya."
   ]
  },
  {
   "cell_type": "markdown",
   "id": "1ae846bf",
   "metadata": {},
   "source": [
    "## ⚙️ Setting Up LangChain and LLMs\n",
    "\n",
    "Untuk memulai, kita perlu mengimpor dua komponen penting: \n",
    "\n",
    "* `langchain_groq`: digunakan untuk menghubungkan LangChain dengan model LLM dari Groq.\n",
    "* `PromptTemplate`: digunakan untuk membuat format pertanyaan atau instruksi yang ingin kita berikan ke AI."
   ]
  },
  {
   "cell_type": "code",
   "execution_count": 16,
   "id": "f79e921d",
   "metadata": {},
   "outputs": [],
   "source": [
    "from langchain_groq import ChatGroq\n",
    "from langchain.prompts import PromptTemplate"
   ]
  },
  {
   "cell_type": "markdown",
   "id": "3561c31f",
   "metadata": {},
   "source": [
    "### 🧪 Inisialisasi Model LLM\n",
    "\n",
    "Sebelum bisa menggunakan LLM, kita perlu menginisiasi model-nya terlebih dahulu. Ini seperti menyalakan mesin sebelum digunakan.\n",
    "\n",
    "Kita butuh 3 parameter utama:\n",
    "* `groq_api_key`: API Key dari Groq yang kita simpan di file `.env`. Digunakan untuk otorisasi.\n",
    "* `model_name`: nama model yang ingin kita gunakan. Di sini kita pakai `\"llama3-70b-8192\"`, yaitu model besar dan canggih dari Meta yang disediakan Groq. Dokumentasi lengkap model Groq bisa dilihat di: [https://console.groq.com/docs](https://console.groq.com/docs)\n",
    "* `temperature`: mengatur tingkat kreativitas jawaban.\n",
    "\n",
    "  * Semakin **rendah** (misalnya 0.0) → jawaban lebih konsisten dan deterministik.\n",
    "  * Semakin **tinggi** (misalnya 1.0) → jawaban lebih kreatif dan bervariasi.\n",
    "\n",
    "📌 Kita menggunakan `0.7` agar hasilnya tetap kreatif namun tidak terlalu liar.\n"
   ]
  },
  {
   "cell_type": "code",
   "execution_count": 17,
   "id": "ed6884fd",
   "metadata": {},
   "outputs": [],
   "source": [
    "GROQ_API_KEY = os.getenv(\"GROQ_API_KEY\")\n",
    "\n",
    "llm = ChatGroq(\n",
    "    temperature=0.7,\n",
    "    model_name=\"llama3-70b-8192\",\n",
    "    groq_api_key=GROQ_API_KEY \n",
    ")"
   ]
  },
  {
   "cell_type": "markdown",
   "id": "bff3f8bc",
   "metadata": {},
   "source": [
    "## 🧱 Building a Prompt-Driven Analysis Pipeline\n",
    "\n",
    "Untuk memahami bagaimana LLM bekerja, mari kita mulai dari contoh **sederhana** di luar konteks keuangan terlebih dahulu.\n",
    "\n",
    "Kita akan menyusun **prompt** (instruksi), lalu melihat bagaimana LLM merespons.\n",
    "\n",
    "LangChain menyediakan fungsi `.invoke()` yang digunakan untuk menjalankan model:"
   ]
  },
  {
   "cell_type": "code",
   "execution_count": 18,
   "id": "89393331",
   "metadata": {},
   "outputs": [
    {
     "name": "stdout",
     "output_type": "stream",
     "text": [
      "API (Application Programming Interface) adalah sebuah sistem yang memungkinkan berbagai aplikasi dan sistem untuk berkomunikasi dan berbagi data dengan cara yang terstruktur dan terstandardisasi.\n"
     ]
    }
   ],
   "source": [
    "# Contoh pemanggilan langsung\n",
    "response = llm.invoke(\"Jelaskan apa itu API dalam satu kalimat singkat.\")\n",
    "print(response.content)"
   ]
  },
  {
   "cell_type": "markdown",
   "id": "5644944b",
   "metadata": {},
   "source": [
    "> 📌 `invoke()` adalah cara cepat untuk meminta jawaban dari LLM berdasarkan prompt (teks perintah) yang kita kirim."
   ]
  },
  {
   "cell_type": "markdown",
   "id": "4b11ab26",
   "metadata": {},
   "source": [
    "### 📄 Menggunakan Prompt Template\n",
    "\n",
    "Kalau kita ingin AI melakukan tugas spesifik berdasarkan pola tertentu, kita bisa membuat *template prompt*."
   ]
  },
  {
   "cell_type": "markdown",
   "id": "2724cd48",
   "metadata": {},
   "source": [
    "Sebagai contoh, kita akan membuat template yang meminta AI untuk menjelaskan sebuah konsep kepada anak berusia 10 tahun."
   ]
  },
  {
   "cell_type": "markdown",
   "id": "0dd2dd64",
   "metadata": {},
   "source": [
    "**1. Buat Template Prompt**\n",
    "\n",
    "Gunakan `PromptTemplate` untuk membuat format prompt dengan variabel dinamis. Perhatikan `{topic}`, ini adalah variabel yang bisa kita isi nanti."
   ]
  },
  {
   "cell_type": "code",
   "execution_count": 19,
   "id": "06bc1c9a",
   "metadata": {},
   "outputs": [],
   "source": [
    "template = PromptTemplate(\n",
    "    input_variables=[\"topic\"],\n",
    "    template=\"Jelaskan konsep '{topic}' seolah-olah saya adalah anak berusia 10 tahun dalam satu kalimat.\"\n",
    ")"
   ]
  },
  {
   "cell_type": "markdown",
   "id": "915d242c",
   "metadata": {},
   "source": [
    "**2. Mengisi Variabel**\n",
    "\n",
    "Isi variabel dinamis yang sudah kita definisikan sebelumnya menggunakan `.format`\n"
   ]
  },
  {
   "cell_type": "code",
   "execution_count": 20,
   "id": "c914edfc",
   "metadata": {},
   "outputs": [],
   "source": [
    "prompt = template.format(topic=\"Laporan Keuangan Tahunan\")"
   ]
  },
  {
   "cell_type": "markdown",
   "id": "7c62211f",
   "metadata": {},
   "source": [
    "**3. Jalankan LLM**\n",
    "\n",
    "Untuk menjalankan LLM dengan prompt hasil template, kita menggunakan `.invoke()`"
   ]
  },
  {
   "cell_type": "code",
   "execution_count": 21,
   "id": "34831d9d",
   "metadata": {},
   "outputs": [
    {
     "data": {
      "text/plain": [
       "'\"Laporan Keuangan Tahunan adalah seperti sebuah buku catatan yang dibuat oleh perusahaan untuk mencatat semua uang yang mereka dapatkan dan uang yang mereka keluarkan selama satu tahun, sehingga mereka dapat melihat apakah mereka untung atau rugi dan membuat rencana yang lebih baik untuk tahun depan!\"'"
      ]
     },
     "execution_count": 21,
     "metadata": {},
     "output_type": "execute_result"
    }
   ],
   "source": [
    "response = llm.invoke(prompt)\n",
    "response.content"
   ]
  },
  {
   "cell_type": "markdown",
   "id": "c8e4e26f",
   "metadata": {},
   "source": [
    "Kini kita punya pemahaman dasar tentang cara memberi instruksi terstruktur kepada AI. Di modul berikutnya, kita akan mengganti `topic` sederhana ini dengan data keuangan sungguhan untuk menghasilkan analisis yang sebenarnya."
   ]
  },
  {
   "cell_type": "markdown",
   "id": "dc9837c4",
   "metadata": {},
   "source": [
    "Selanjutnya, kita akan menggabungkan **data keuangan dari API** dengan **analisis AI berbasis prompt** dalam konteks nyata."
   ]
  },
  {
   "cell_type": "markdown",
   "id": "0fca8032",
   "metadata": {},
   "source": [
    "# 📊 Exploring Financial Insights\n",
    "\n",
    "Pada tahap ini, kita akan menggabungkan **data keuangan dari API** dengan **kemampuan AI (LLM)** untuk membaca dan menginterpretasikan data tersebut. Kita akan membuat analisis otomatis, visualisasi tren, dan bahkan deteksi risiko keuangan — semua berbasis AI 💡🤖"
   ]
  },
  {
   "cell_type": "markdown",
   "id": "e1806e95",
   "metadata": {},
   "source": [
    "## 1. 🏢 Generating a Dynamic Company Overview\n",
    "\n",
    "Pertama-tama, kita akan mengambil informasi mendalam tentang satu perusahaan. Kita ambil contoh saham dari **Bank Central Asia (BBCA)**."
   ]
  },
  {
   "cell_type": "markdown",
   "id": "f3002d2d",
   "metadata": {},
   "source": [
    "**Step 1: Ambil Data Profil Perusahaan**\n",
    "\n",
    "Kita akan mengambil data profil untuk saham `BBCA.JK` (Bank Central Asia Tbk), dengan endpoint `/company/report/{symbol}/`"
   ]
  },
  {
   "cell_type": "code",
   "execution_count": 22,
   "id": "232635fa",
   "metadata": {},
   "outputs": [],
   "source": [
    "symbol = \"BBCA.JK\"\n",
    "url_report = f\"{BASE_URL}/company/report/{symbol}/?sections=overview\""
   ]
  },
  {
   "cell_type": "markdown",
   "id": "67c58b83",
   "metadata": {},
   "source": [
    "Lakukan request ke API"
   ]
  },
  {
   "cell_type": "code",
   "execution_count": 23,
   "id": "bbfa0fc4",
   "metadata": {},
   "outputs": [],
   "source": [
    "response_report = requests.get(url_report, headers=HEADERS)\n",
    "report_data = response_report.json()"
   ]
  },
  {
   "cell_type": "markdown",
   "id": "cd079ad3",
   "metadata": {},
   "source": [
    "**Step 2: Ekstrak dan Tampilkan Informasi**\n",
    "\n",
    "Data yang kita dapatkan berbentuk `JSON` (mirip dictionary di Python). Kita akan ekstrak informasi penting dan menampilkannya dalam format Markdown yang mudah dibaca.\n",
    "\n",
    "> 💡 Pro Tip: Menggunakan `.get('key')` lebih aman daripada `['key']`. Jika sebuah data (misal: `'employee_num'`) tidak ada, .`get()` akan menghasilkan `None` (kosong) dan tidak menyebabkan `eror`."
   ]
  },
  {
   "cell_type": "code",
   "execution_count": 24,
   "id": "94739113",
   "metadata": {},
   "outputs": [],
   "source": [
    "overview = report_data.get(\"overview\", {})\n",
    "company_name = report_data.get(\"company_name\", \"N/A\")"
   ]
  },
  {
   "cell_type": "markdown",
   "id": "4f39c14a",
   "metadata": {},
   "source": [
    "Tampilkan hasil dalam format Markdown yang rapi"
   ]
  },
  {
   "cell_type": "code",
   "execution_count": 25,
   "id": "1135e802",
   "metadata": {},
   "outputs": [
    {
     "data": {
      "text/markdown": [
       "\n",
       "### 💼 Ringkasan Perusahaan: PT Bank Central Asia Tbk. (BBCA.JK)\n",
       "- **Sektor/Industri**: Financials / Banks\n",
       "- **Tanggal Listing**: 2000-05-31\n",
       "- **Jumlah Karyawan**: 24,685 orang\n",
       "\n",
       "---\n",
       "#### Kinerja Pasar\n",
       "- **Kapitalisasi Pasar**: Rp 1,019,868,908,355,584 (Peringkat #1)\n",
       "- **Harga Terakhir (2025-08-04)**: Rp 8,275\n",
       "- **Perubahan Harian**: -0.30%\n",
       "- **Website**: www.bca.co.id\n"
      ],
      "text/plain": [
       "<IPython.core.display.Markdown object>"
      ]
     },
     "execution_count": 25,
     "metadata": {},
     "output_type": "execute_result"
    }
   ],
   "source": [
    "from IPython.display import Markdown\n",
    "\n",
    "Markdown(f\"\"\"\n",
    "### 💼 Ringkasan Perusahaan: {company_name} ({symbol})\n",
    "- **Sektor/Industri**: {overview.get('sector', 'N/A')} / {overview.get('industry', 'N/A')}\n",
    "- **Tanggal Listing**: {overview.get('listing_date', 'N/A')}\n",
    "- **Jumlah Karyawan**: {int(overview.get('employee_num', 0)):,} orang\n",
    "\n",
    "---\n",
    "#### Kinerja Pasar\n",
    "- **Kapitalisasi Pasar**: Rp {overview.get('market_cap', 0):,.0f} (Peringkat #{overview.get('market_cap_rank', 'N/A')})\n",
    "- **Harga Terakhir ({overview.get('latest_close_date', 'N/A')})**: Rp {overview.get('last_close_price', 0):,}\n",
    "- **Perubahan Harian**: {overview.get('daily_close_change', 0):.2%}\n",
    "- **Website**: {overview.get('website', 'N/A')}\n",
    "\"\"\")"
   ]
  },
  {
   "cell_type": "markdown",
   "id": "85c4e038",
   "metadata": {},
   "source": [
    "## 2. 📑 Creating an Automated Financial Summary\n",
    "\n",
    "Sekarang kita akan mengambil data keuangan dan meminta AI untuk menyusunnya secara otomatis."
   ]
  },
  {
   "cell_type": "markdown",
   "id": "1d861a52",
   "metadata": {},
   "source": [
    "### Step 1: Mengambil Data Kuartalan\n",
    "\n",
    "Kita akan mengambil data keuangan dari 4 kuartal terakhir. Data ini akan menjadi \"bahan bacaan\" untuk AI kita."
   ]
  },
  {
   "cell_type": "markdown",
   "id": "130f5360",
   "metadata": {},
   "source": [
    "Ambil data keuangan 4 kuartal terakhir untuk simbol yang sama"
   ]
  },
  {
   "cell_type": "code",
   "execution_count": 26,
   "id": "52d7d094",
   "metadata": {},
   "outputs": [],
   "source": [
    "url_fin = f\"{BASE_URL}/financials/quarterly/{symbol}/\"\n",
    "params = {\"n_quarters\": \"4\",\n",
    "          \"report_date\": \"2023-09-30\"}"
   ]
  },
  {
   "cell_type": "code",
   "execution_count": 27,
   "id": "1f33d5e7",
   "metadata": {},
   "outputs": [],
   "source": [
    "response = requests.get(url_fin, headers=HEADERS, params=params)\n",
    "financials = pd.DataFrame(response.json())"
   ]
  },
  {
   "cell_type": "markdown",
   "id": "63bcae90",
   "metadata": {},
   "source": [
    "### Step 2: Prompt Template untuk Ringkasan Keuangan\n",
    "\n",
    "Kita akan membuat prompt template yang lebih spesifik untuk memandu AI memberikan ringkasan yang berkualitas.\n",
    "\n",
    "> **✨ Pro Tips**: Daripada hanya meminta ringkasan, kita beri AI sebuah peran (sebagai analis) dan instruksi yang jelas (fokus pada pendapatan, laba, dan arus kas)."
   ]
  },
  {
   "cell_type": "code",
   "execution_count": 28,
   "id": "cd71e97a",
   "metadata": {},
   "outputs": [],
   "source": [
    "prompt_summary_template = PromptTemplate.from_template(\n",
    "    \"\"\"\n",
    "    Anda adalah seorang analis keuangan yang handal.\n",
    "    Berdasarkan data keuangan kuartalan berikut (dalam miliar Rupiah):\n",
    "    ---\n",
    "    {data}\n",
    "    ---\n",
    "    Tuliskan ringkasan eksekutif dalam 3 poin singkat untuk seorang investor. \n",
    "    Fokus pada: \n",
    "    1. Tren pertumbuhan pendapatan (revenue).\n",
    "    2. Tingkat profitabilitas (net income).\n",
    "    3. Posisi arus kas operasi (operating cashflow).\n",
    "    \"\"\"\n",
    ")"
   ]
  },
  {
   "cell_type": "markdown",
   "id": "a5ba6dcf",
   "metadata": {},
   "source": [
    "Eksekusi dan hasilkan ringkasan dari LLM:"
   ]
  },
  {
   "cell_type": "code",
   "execution_count": 29,
   "id": "f8c017bf",
   "metadata": {},
   "outputs": [
    {
     "name": "stdout",
     "output_type": "stream",
     "text": [
      "Here is a 3-point executive summary for an investor:\n",
      "\n",
      "**1. Revenue Growth Trend:** The revenue of BBCA.JK has been consistently growing over the past four quarters, with a slight dip in Q2 2025. The revenue growth rate has been around 10-15% YoY, indicating a strong and stable growth trend.\n",
      "\n",
      "**2. Profitability:** The net income of BBCA.JK has been fluctuating, but overall, it has been profitable. The net income margin has been around 20-25%, which is relatively high and indicates a strong profitability position.\n",
      "\n",
      "**3. Operating Cash Flow Position:** The operating cash flow of BBCA.JK has been mostly positive, with a few quarters of negative cash flow. However, the overall trend is positive, indicating that the company is generating sufficient cash from its operations to meet its financial obligations and invest in growth initiatives. The operating cash flow has been around IDR 3-5 trillion per quarter, which is a significant amount.\n"
     ]
    }
   ],
   "source": [
    "prompt_summary = prompt_summary_template.format(data=financials.to_string(index=False))\n",
    "summary_llm = llm.invoke(prompt_summary)\n",
    "\n",
    "print(summary_llm.content)"
   ]
  },
  {
   "cell_type": "markdown",
   "id": "3b0ab32c",
   "metadata": {},
   "source": [
    "## 3. 📈 Visualizing Revenue Trends\n",
    "\n",
    "LLM juga bisa diminta untuk menulis kode visualisasi berdasarkan data. \n",
    "\n",
    "Kita mulai dengan mengambil bagian yang relevan:"
   ]
  },
  {
   "cell_type": "code",
   "execution_count": 30,
   "id": "216de0ff",
   "metadata": {},
   "outputs": [],
   "source": [
    "sample_data_viz = financials[['date', 'revenue']].dropna().to_string(index=False)"
   ]
  },
  {
   "cell_type": "markdown",
   "id": "5116b6d2",
   "metadata": {},
   "source": [
    "Prompt Template untuk Visualisasi:"
   ]
  },
  {
   "cell_type": "code",
   "execution_count": 31,
   "id": "9919f09d",
   "metadata": {},
   "outputs": [],
   "source": [
    "template_viz = PromptTemplate.from_template(\n",
    "    \"\"\"\n",
    "    Anda adalah seorang programmer Python yang ahli dalam visualisasi data.\n",
    "    Berikut adalah data pendapatan (revenue) perusahaan:\n",
    "    ---\n",
    "    {data}\n",
    "    ---\n",
    "    Buat sebuah skrip Python menggunakan **matplotlib** untuk menghasilkan **line plot**.\n",
    "    Instruksi:\n",
    "    - Sumbu X adalah 'date'.\n",
    "    - Sumbu Y adalah 'revenue'.\n",
    "    - Beri judul grafik: 'Tren Pendapatan Kuartalan untuk {symbol}'.\n",
    "    - Atur ukuran gambar menjadi (10, 6) agar terlihat jelas.\n",
    "    - Pastikan tanggal di sumbu X tidak tumpang tindih.\n",
    "\n",
    "    Tulis HANYA kode Python yang bisa langsung dieksekusi. Jangan sertakan penjelasan apapun.\n",
    "    \"\"\"\n",
    ")"
   ]
  },
  {
   "cell_type": "markdown",
   "id": "d8c03710",
   "metadata": {},
   "source": [
    "Kemudian kita minta LLM menghasilkan kodenya:"
   ]
  },
  {
   "cell_type": "code",
   "execution_count": 32,
   "id": "e059ec8f",
   "metadata": {},
   "outputs": [
    {
     "name": "stdout",
     "output_type": "stream",
     "text": [
      "```\n",
      "import pandas as pd\n",
      "import matplotlib.pyplot as plt\n",
      "import matplotlib.dates as mdates\n",
      "\n",
      "# Data\n",
      "data = {'date': ['2025-06-30', '2025-03-31', '2024-12-31', '2024-09-30'], \n",
      "        'revenue': [29193195000000, 34620643000000, 34123858000000, 34208761000000]}\n",
      "df = pd.DataFrame(data)\n",
      "\n",
      "# Convert date column to datetime\n",
      "df['date'] = pd.to_datetime(df['date'])\n",
      "\n",
      "# Create line plot\n",
      "plt.figure(figsize=(10, 6))\n",
      "plt.plot(df['date'], df['revenue'], marker='o')\n",
      "\n",
      "# Format date on x-axis\n",
      "plt.gca().xaxis.set_major_formatter(mdates.DateFormatter('%Y-%m-%d'))\n",
      "plt.gcf().autofmt_xdate()\n",
      "\n",
      "# Set title and labels\n",
      "plt.title('Tren Pendapatan Kuartalan untuk BBCA.JK')\n",
      "plt.xlabel('Date')\n",
      "plt.ylabel('Revenue')\n",
      "\n",
      "# Show plot\n",
      "plt.show()\n",
      "```\n"
     ]
    }
   ],
   "source": [
    "llm_viz = llm.invoke(template_viz.format(data=sample_data_viz, symbol=symbol))\n",
    "print(llm_viz.content)"
   ]
  },
  {
   "cell_type": "markdown",
   "id": "09ba3fcb",
   "metadata": {},
   "source": [
    "Kalau kita lihat outputnya LLM terkadang membungkus kode dalam ```python ... ```, jadi kita perlu membersihkannya."
   ]
  },
  {
   "cell_type": "code",
   "execution_count": 33,
   "id": "090da994",
   "metadata": {},
   "outputs": [],
   "source": [
    "clean_code = llm_viz.content.strip().strip(\"```\").replace(\"python\", \"\").strip()"
   ]
  },
  {
   "cell_type": "markdown",
   "id": "857554dd",
   "metadata": {},
   "source": [
    "Untuk menjalankan suatu kode yang berbentuk string kita bisa menggunakan fungsi `exec()`"
   ]
  },
  {
   "cell_type": "code",
   "execution_count": 34,
   "id": "b6ef5629",
   "metadata": {},
   "outputs": [
    {
     "data": {
      "image/png": "[encoded data removed]",
      "text/plain": [
       "<Figure size 1000x600 with 1 Axes>"
      ]
     },
     "metadata": {},
     "output_type": "display_data"
    }
   ],
   "source": [
    "exec(clean_code)"
   ]
  },
  {
   "cell_type": "markdown",
   "id": "c1e01b43",
   "metadata": {},
   "source": [
    "## 4. 🔎 Interpreting Key Financial Trends\n",
    "\n",
    "Mari kita minta LLM untuk menganalisis tren dari data revenue, laba bersih, dan arus kas operasional."
   ]
  },
  {
   "cell_type": "code",
   "execution_count": 35,
   "id": "9d2317ce",
   "metadata": {},
   "outputs": [],
   "source": [
    "template_trend = PromptTemplate.from_template(\n",
    "    \"\"\"\n",
    "    Bertindaklah sebagai seorang analis keuangan. \n",
    "    Perhatikan data keuangan kuartalan berikut:\n",
    "    ---\n",
    "    {data}\n",
    "    ---\n",
    "    Analisis tren utama yang muncul dari data tersebut. Fokus pada pergerakan **revenue, net_income, dan operating_cashflow** dari kuartal ke kuartal.\n",
    "    Sajikan analisis Anda dalam 3 poin (bullet points). Tuliskan dengan bahasa singkat dan jelas.\n",
    "    \"\"\"\n",
    ")"
   ]
  },
  {
   "cell_type": "code",
   "execution_count": 36,
   "id": "f445b235",
   "metadata": {},
   "outputs": [],
   "source": [
    "interpretasi_tren = llm.invoke(template_trend.format(data=financials.to_string(index=False)))"
   ]
  },
  {
   "cell_type": "code",
   "execution_count": 37,
   "id": "838a824b",
   "metadata": {},
   "outputs": [
    {
     "name": "stdout",
     "output_type": "stream",
     "text": [
      "🔎 Interpretasi Tren oleh LLM:\n",
      "Based on the provided financial data, here are three main trend analysis points:\n",
      "\n",
      "• **Revenue**: The revenue has been consistently increasing from Q3 2024 to Q2 2025, with a slight dip in Q4 2024. The growth rate is around 5-6% quarter-over-quarter.\n",
      "\n",
      "• **Net Income**: The net income has been volatile, with a significant drop in Q1 2025 and a rebound in Q2 2025. The net income growth rate is around 10-15% quarter-over-quarter, but with a high degree of variability.\n",
      "\n",
      "• **Operating Cash Flow**: The operating cash flow has been consistently negative, with a significant increase in cash outflow in Q1 2025. This could indicate that the company is facing liquidity issues or investing heavily in its operations.\n"
     ]
    }
   ],
   "source": [
    "print(\"🔎 Interpretasi Tren oleh LLM:\")\n",
    "print(interpretasi_tren.content)"
   ]
  },
  {
   "cell_type": "markdown",
   "id": "ac0b3a08",
   "metadata": {},
   "source": [
    "## 5. ⚠️ Detecting Potential Financial Risks\n",
    "\n",
    "Kita juga bisa meminta LLM untuk mencari potensi risiko yang mungkin tersembunyi dalam laporan keuangan.\n",
    "\n",
    "Seorang analis yang baik tidak hanya melihat sisi positif, tetapi juga potensi risiko. Mari kita suruh AI untuk menjadi \"skeptis\" dan mencari potensi masalah.\n",
    "\n",
    "**✨Pro Tips**: Kita minta AI untuk berperan sebagai analis risiko dan mencari red flags spesifik. Ini akan menghasilkan jawaban yang lebih tajam dan tidak generik."
   ]
  },
  {
   "cell_type": "code",
   "execution_count": 38,
   "id": "3ab24f23",
   "metadata": {},
   "outputs": [],
   "source": [
    "template_risk = PromptTemplate.from_template(\n",
    "    \"\"\"\n",
    "    Anda adalah seorang analis risiko keuangan yang skeptis. \n",
    "    Periksa data keuangan berikut dengan teliti:\n",
    "    ---\n",
    "    {data}\n",
    "    ---\n",
    "    Identifikasi 2-3 potensi risiko atau \"red flags\" yang perlu diwaspadai dari data ini. Carilah hal-hal seperti penurunan margin, peningkatan utang, atau arus kas yang tidak sejalan dengan laba.\n",
    "    Jelaskan setiap risiko dalam satu kalimat singkat.\n",
    "    \"\"\"\n",
    ")"
   ]
  },
  {
   "cell_type": "code",
   "execution_count": 39,
   "id": "65f35584",
   "metadata": {},
   "outputs": [],
   "source": [
    "llm_risiko = llm.invoke(template_risk.format(data=financials.to_string(index=False)))"
   ]
  },
  {
   "cell_type": "code",
   "execution_count": 40,
   "id": "102287d3",
   "metadata": {},
   "outputs": [
    {
     "name": "stdout",
     "output_type": "stream",
     "text": [
      "⚠️ Potensi Risiko:\n",
      "As a skeptical financial risk analyst, I've identified 2-3 potential risks or \"red flags\" from the data:\n",
      "\n",
      "1. **Decreasing net interest margin**: The net interest income as a percentage of total assets has been decreasing over the quarters, indicating a possible squeeze on the bank's profitability.\n",
      "2. **Increasing non-performing loans**: The allowance for loans as a percentage of gross loans has been increasing, suggesting a potential rise in non-performing loans, which could lead to higher provisioning and lower earnings.\n",
      "3. **Unstable cash flow**: The operating cash flow and free cash flow have been volatile, with large fluctuations between quarters, which may indicate a lack of stability in the bank's ability to generate cash and meet its financial obligations.\n",
      "\n",
      "Each of these risks could have a significant impact on the bank's financial performance and stability, and therefore warrant further investigation and monitoring.\n"
     ]
    }
   ],
   "source": [
    "print(\"⚠️ Potensi Risiko:\")\n",
    "print(llm_risiko.content)"
   ]
  }
 ],
 "metadata": {
  "kernelspec": {
   "display_name": "zeus_da",
   "language": "python",
   "name": "python3"
  },
  "language_info": {
   "codemirror_mode": {
    "name": "ipython",
    "version": 3
   },
   "file_extension": ".py",
   "mimetype": "text/x-python",
   "name": "python",
   "nbconvert_exporter": "python",
   "pygments_lexer": "ipython3",
   "version": "3.12.0"
  }
 },
 "nbformat": 4,
 "nbformat_minor": 5
}
