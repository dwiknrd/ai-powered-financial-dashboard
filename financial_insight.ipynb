{
 "cells": [
  {
   "cell_type": "markdown",
   "id": "fdbe84c8",
   "metadata": {},
   "source": [
    "# **AI-Powered Financial Insights: Harnessing LLMs for a Competitive Edge in the Market**"
   ]
  },
  {
   "cell_type": "markdown",
   "id": "f21c7ff6",
   "metadata": {},
   "source": [
    "## Getting Started\n",
    "\n",
    "### What is AI-Powered Financial Insight?\n",
    "\n",
    "Di era modern ini, data keuangan semakin kompleks dan jumlahnya sangat besar. Untuk memahami data tersebut secara cepat dan akurat, kita bisa menggunakan teknologi **AI-powered financial insight**, yaitu pendekatan analisis data keuangan dengan bantuan kecerdasan buatan, khususnya **Large Language Models (LLMs)**.\n",
    "\n",
    "Dengan menggunakan AI, kita bisa:\n",
    "\n",
    "* Mengambil ringkasan laporan keuangan secara otomatis.\n",
    "* Menjelaskan tren yang terlihat pada grafik keuangan.\n",
    "* Mendeteksi potensi risiko keuangan hanya dari data mentah.\n",
    "\n",
    "Tujuan akhirnya adalah membantu kita membuat keputusan yang lebih baik, lebih cepat, dan berdasarkan data yang solid.\n",
    "\n",
    "### Why Use Large Language Models (LLMs) in Finance?\n",
    "\n",
    "LLM (Large Language Model) adalah model AI yang dilatih dengan jutaan data teks, sehingga mampu memahami dan menghasilkan teks seperti manusia. Kita mungkin mengenal ChatGPT, Groq, atau Claude sebagai contoh LLM.\n",
    "\n",
    "Dalam konteks keuangan, LLM sangat bermanfaat karena:\n",
    "\n",
    "* Dapat membaca dan memahami laporan keuangan berbahasa natural.\n",
    "* Menjawab pertanyaan tentang kondisi keuangan suatu perusahaan.\n",
    "* Menginterpretasikan grafik seperti tren revenue atau cash flow.\n",
    "* Menghasilkan insight keuangan secara otomatis tanpa perlu coding kompleks.\n",
    "\n",
    "Dengan kata lain, LLM membuat analisis keuangan menjadi lebih **mudah, cepat, dan efisien**, bahkan untuk kita yang tidak punya latar belakang finansial maupun teknis.\n",
    "\n",
    "### The Workflow: A Roadmap from Raw Data to Interactive Dashboard\n",
    "\n",
    "Berikut adalah alur kerja (workflow) yang akan kita gunakan sepanjang course ini:\n",
    "\n",
    "1. **Ambil Data Keuangan**\n",
    "   Mengambil data dari Sectors API menggunakan Python.\n",
    "\n",
    "2. **Eksplorasi dan Persiapan Data**\n",
    "   Data yang kita ambil akan dibersihkan dan disiapkan agar bisa dibaca oleh AI.\n",
    "\n",
    "3. **Analisis dengan LLM**\n",
    "   Menggunakan LangChain dan Groq untuk menghasilkan insight secara otomatis.\n",
    "\n",
    "4. **Visualisasi Data**\n",
    "   Membuat grafik yang memperlihatkan tren keuangan menggunakan AI.\n",
    "\n",
    "5. **Bangun Dashboard**\n",
    "   Membangun dashboard interaktif menggunakan Streamlit dan menampilkan hasil analisis AI secara langsung.\n",
    "\n",
    "### Tools and Technologies Overview\n",
    "\n",
    "Untuk menyelesaikan course ini, kita akan menggunakan beberapa tools berikut:\n",
    "\n",
    "- **Python**: Bahasa pemrograman utama yang akan kita gunakan. Mudah dipahami, fleksibel, dan banyak digunakan dalam analisis data serta AI\n",
    "- **Jupyter Notebook**: Tempat kita akan menulis dan menjalankan kode Python. Sangat cocok untuk eksperimen data dan dokumentasi proses analisis.\n",
    "- **Streamlit**: Framework Python untuk membuat aplikasi web secara cepat. Kita akan menggunakannya untuk membangun dashboard dari data dan insight yang kita miliki.\n",
    "- **LangChain**: Framework yang memudahkan kita menghubungkan LLM dengan data.\n",
    "- **Groq**: Salah satu penyedia LLM yang sangat cepat dan efisien. Keduanya akan digunakan untuk menghasilkan insight otomatis dari data keuangan.\n",
    "- **Sectors API**: Sumber data keuangan yang akan kita gunakan. Dengan API ini, kita bisa mengambil data tentang perusahaan, laporan keuangan, dan informasi sektor industri secara real time."
   ]
  },
  {
   "cell_type": "markdown",
   "id": "8e450e70",
   "metadata": {},
   "source": [
    "# Getting Financial Data via API\n",
    "\n",
    "Data keuangan adalah pondasi dari semua insight yang akan kita hasilkan. Di bagian ini, kita akan belajar bagaimana cara mengambil data keuangan secara otomatis menggunakan **API** — semacam jembatan digital yang menghubungkan kita dengan data real-time dari internet.\n",
    "\n",
    "## 🔌 What is an API and How It Works\n",
    "\n",
    "**API (Application Programming Interface)** adalah jembatan yang memungkinkan dua aplikasi berkomunikasi. Bayangkan seperti kita memesan makanan lewat aplikasi, dan restoran mengantarkan pesanan ke rumah — konsep yang sama berlaku saat kita minta data ke server melalui API.\n",
    "\n",
    "🔁 Cara kerjanya:\n",
    "\n",
    "* Kita kirim **request** (permintaan data)\n",
    "* Server API membalas dengan **response** (data, biasanya dalam format JSON)"
   ]
  },
  {
   "cell_type": "markdown",
   "id": "d5eec46a",
   "metadata": {},
   "source": [
    "## 🌐 Introduction to the Sectors API\n",
    "\n",
    "[Sectors API](https://sectors.app/api) adalah layanan yang menyediakan berbagai informasi terkait sektor industri dan keuangan perusahaan. \n",
    "\n",
    "Anggap saja ini sebagai perpustakaan atau sumber data utama kita.Kita bisa melihat semua \"menu\" data yang tersedia di dokumentasi resmi mereka: https://sectors.app/api\n",
    "\n",
    "* Melihat daftar subsektor industri\n",
    "* Mengambil daftar perusahaan berdasarkan subsektor\n",
    "* Mengakses data keuangan mereka\n",
    "* dll"
   ]
  },
  {
   "cell_type": "markdown",
   "id": "4adeee05",
   "metadata": {},
   "source": [
    "## 🔑 Step 1: Obtaining Your Personal API Key\n",
    "\n",
    "Untuk menggunakan Sectors API, kita perlu mendaftar dan mendapatkan **API Key** sebagai tanda pengenal kita.\n",
    "\n",
    "📝 Langkah-langkah:\n",
    "\n",
    "1. Kunjungi [sectors.app/api](https://sectors.app/api)\n",
    "2. Login atau daftar akun\n",
    "3. Salin API Key Anda\n",
    "\n",
    "Kita akan menyimpan API Key ini agar bisa digunakan nanti dalam kode Python."
   ]
  },
  {
   "cell_type": "markdown",
   "id": "b249a5e9",
   "metadata": {},
   "source": [
    "## ⚙️ Step 2: Setting Up Your Python Environment\n",
    "\n",
    "### Menyimpan API Key dengan Aman\n",
    "\n",
    "Agar API Key kita aman dan tidak terlihat langsung dalam kode, kita akan menyimpannya dalam file `.env`. Untuk membaca file ini, kita gunakan library `dotenv`."
   ]
  },
  {
   "cell_type": "code",
   "execution_count": 2,
   "id": "32e84fd0",
   "metadata": {},
   "outputs": [],
   "source": [
    "from dotenv import load_dotenv\n",
    "import os"
   ]
  },
  {
   "cell_type": "markdown",
   "id": "e2439bb7",
   "metadata": {},
   "source": [
    "Gunakan `load_dotenv()` untuk memuat semua variabel dari file .env kita."
   ]
  },
  {
   "cell_type": "code",
   "execution_count": 3,
   "id": "a50d1cf7",
   "metadata": {},
   "outputs": [
    {
     "data": {
      "text/plain": [
       "True"
      ]
     },
     "execution_count": 3,
     "metadata": {},
     "output_type": "execute_result"
    }
   ],
   "source": [
    "load_dotenv()"
   ]
  },
  {
   "cell_type": "markdown",
   "id": "a7fd7a5d",
   "metadata": {},
   "source": [
    "Sekarang, kita ambil key tersebut dari environment dan simpan dalam variabel. Gunakan `os.getenv(\"NAMA_VARIABEL\")` untuk \"ambil nilai dari variabel X\""
   ]
  },
  {
   "cell_type": "code",
   "execution_count": 4,
   "id": "14eae1af",
   "metadata": {},
   "outputs": [],
   "source": [
    "SECTORS_API_KEY = os.getenv(\"SECTORS_API_KEY\")"
   ]
  },
  {
   "cell_type": "markdown",
   "id": "838708f4",
   "metadata": {},
   "source": [
    "### Menyiapkan Akses Cepat\n",
    "\n",
    "Supaya lebih mudah, kita akan menyimpan alamat utama API dan header otorisasi kita dalam variabel. Jadi, kita tidak perlu mengetiknya berulang kali."
   ]
  },
  {
   "cell_type": "code",
   "execution_count": 5,
   "id": "7bbee571",
   "metadata": {},
   "outputs": [],
   "source": [
    "BASE_URL = \"https://api.sectors.app/v1\"\n",
    "HEADERS = {\"Authorization\": SECTORS_API_KEY}"
   ]
  },
  {
   "cell_type": "markdown",
   "id": "8bd39e1e",
   "metadata": {},
   "source": [
    "> 💡 `BASE_URL` menyimpan alamat utama API, dan `HEADERS` menyimpan API Key yang akan dikirim saat kita melakukan permintaan ke API."
   ]
  },
  {
   "cell_type": "markdown",
   "id": "f76c99e2",
   "metadata": {},
   "source": [
    "## 📥 Step 3: Extracting and Loading Financial Data\n",
    "### 🔍 Subsector\n",
    "\n",
    "Sebagai contoh awal, kita akan mengambil daftar subsektor industri dari API:\n"
   ]
  },
  {
   "cell_type": "markdown",
   "id": "34858fda",
   "metadata": {},
   "source": [
    "Import library '`requests`' yang berfungsi sebagai \"kurir\" untuk mengirim permintaan kita"
   ]
  },
  {
   "cell_type": "code",
   "execution_count": 6,
   "id": "0f39e9ec",
   "metadata": {},
   "outputs": [],
   "source": [
    "import requests"
   ]
  },
  {
   "cell_type": "markdown",
   "id": "2df143d1",
   "metadata": {},
   "source": [
    "Kita tentukan alamat lengkap pesanan kita berdasarkan dokumentasi. Gunakan `f\"{...}\"` untuk mempermudah menggabungkan string di Python."
   ]
  },
  {
   "cell_type": "code",
   "execution_count": 8,
   "id": "1c9d6dc0",
   "metadata": {},
   "outputs": [],
   "source": [
    "url_subsectors = f\"{BASE_URL}/subsectors/\""
   ]
  },
  {
   "cell_type": "markdown",
   "id": "e3246e0f",
   "metadata": {},
   "source": [
    "Sekarang kita kirim permintaannya!\n",
    "\n",
    "- Gunakan `requests.get()` -> perintah untuk \"Tolong ambilkan data dari URL ini\".\n",
    "- Kita juga menyertakan `HEADERS` agar server tahu siapa kita."
   ]
  },
  {
   "cell_type": "code",
   "execution_count": 9,
   "id": "403351a1",
   "metadata": {},
   "outputs": [],
   "source": [
    "resp = requests.get(url_subsectors, headers=HEADERS)"
   ]
  },
  {
   "cell_type": "code",
   "execution_count": 10,
   "id": "e6c253fb",
   "metadata": {},
   "outputs": [
    {
     "data": {
      "text/plain": [
       "<Response [200]>"
      ]
     },
     "execution_count": 10,
     "metadata": {},
     "output_type": "execute_result"
    }
   ],
   "source": [
    "resp"
   ]
  },
  {
   "cell_type": "markdown",
   "id": "600a022f",
   "metadata": {},
   "source": [
    "`resp` sekarang berisi jawaban dari server. Untuk melihat isinya dalam format yang bisa dibaca Python, kita gunakan `.json()`."
   ]
  },
  {
   "cell_type": "code",
   "execution_count": 11,
   "id": "b693efaf",
   "metadata": {},
   "outputs": [
    {
     "data": {
      "text/plain": [
       "[{'sector': 'transportation-logistic', 'subsector': 'transportation'},\n",
       " {'sector': 'properties-real-estate', 'subsector': 'properties-real-estate'},\n",
       " {'sector': 'infrastructures', 'subsector': 'telecommunication'},\n",
       " {'sector': 'infrastructures',\n",
       "  'subsector': 'heavy-constructions-civil-engineering'},\n",
       " {'sector': 'consumer-non-cyclicals', 'subsector': 'food-beverage'},\n",
       " {'sector': 'infrastructures', 'subsector': 'utilities'},\n",
       " {'sector': 'healthcare', 'subsector': 'healthcare-equipment-providers'},\n",
       " {'sector': 'financials', 'subsector': 'financing-service'},\n",
       " {'sector': 'consumer-non-cyclicals', 'subsector': 'tobacco'},\n",
       " {'sector': 'healthcare', 'subsector': 'pharmaceuticals-health-care-research'},\n",
       " {'sector': 'consumer-non-cyclicals',\n",
       "  'subsector': 'nondurable-household-products'},\n",
       " {'sector': 'consumer-cyclicals', 'subsector': 'media-entertainment'},\n",
       " {'sector': 'industrials', 'subsector': 'industrial-goods'},\n",
       " {'sector': 'consumer-non-cyclicals', 'subsector': 'food-staples-retailing'},\n",
       " {'sector': 'industrials', 'subsector': 'industrial-services'},\n",
       " {'sector': 'technology', 'subsector': 'software-it-services'},\n",
       " {'sector': 'financials', 'subsector': 'insurance'},\n",
       " {'sector': 'infrastructures', 'subsector': 'transportation-infrastructure'},\n",
       " {'sector': 'energy', 'subsector': 'oil-gas-coal'},\n",
       " {'sector': 'consumer-cyclicals', 'subsector': 'leisure-goods'},\n",
       " {'sector': 'basic-materials', 'subsector': 'basic-materials'},\n",
       " {'sector': 'consumer-cyclicals', 'subsector': 'household-goods'},\n",
       " {'sector': 'consumer-cyclicals', 'subsector': 'consumer-services'},\n",
       " {'sector': 'financials', 'subsector': 'banks'},\n",
       " {'sector': 'transportation-logistic', 'subsector': 'logistics-deliveries'},\n",
       " {'sector': 'consumer-cyclicals', 'subsector': 'retailing'},\n",
       " {'sector': 'financials', 'subsector': 'investment-service'},\n",
       " {'sector': 'energy', 'subsector': 'alternative-energy'},\n",
       " {'sector': 'financials', 'subsector': 'holding-investment-companies'},\n",
       " {'sector': 'consumer-cyclicals', 'subsector': 'automobiles-components'},\n",
       " {'sector': 'technology', 'subsector': 'technology-hardware-equipment'},\n",
       " {'sector': 'industrials', 'subsector': 'multi-sector-holdings'},\n",
       " {'sector': 'consumer-cyclicals', 'subsector': 'apparel-luxury-goods'}]"
      ]
     },
     "execution_count": 11,
     "metadata": {},
     "output_type": "execute_result"
    }
   ],
   "source": [
    "resp.json()"
   ]
  },
  {
   "cell_type": "markdown",
   "id": "11969c72",
   "metadata": {},
   "source": [
    "Lalu ubah menjadi `DataFrame` agar mudah dianalisis:"
   ]
  },
  {
   "cell_type": "code",
   "execution_count": 12,
   "id": "bb848520",
   "metadata": {},
   "outputs": [
    {
     "data": {
      "text/html": [
       "<div>\n",
       "<style scoped>\n",
       "    .dataframe tbody tr th:only-of-type {\n",
       "        vertical-align: middle;\n",
       "    }\n",
       "\n",
       "    .dataframe tbody tr th {\n",
       "        vertical-align: top;\n",
       "    }\n",
       "\n",
       "    .dataframe thead th {\n",
       "        text-align: right;\n",
       "    }\n",
       "</style>\n",
       "<table border=\"1\" class=\"dataframe\">\n",
       "  <thead>\n",
       "    <tr style=\"text-align: right;\">\n",
       "      <th></th>\n",
       "      <th>sector</th>\n",
       "      <th>subsector</th>\n",
       "    </tr>\n",
       "  </thead>\n",
       "  <tbody>\n",
       "    <tr>\n",
       "      <th>0</th>\n",
       "      <td>transportation-logistic</td>\n",
       "      <td>transportation</td>\n",
       "    </tr>\n",
       "    <tr>\n",
       "      <th>1</th>\n",
       "      <td>properties-real-estate</td>\n",
       "      <td>properties-real-estate</td>\n",
       "    </tr>\n",
       "    <tr>\n",
       "      <th>2</th>\n",
       "      <td>infrastructures</td>\n",
       "      <td>telecommunication</td>\n",
       "    </tr>\n",
       "    <tr>\n",
       "      <th>3</th>\n",
       "      <td>infrastructures</td>\n",
       "      <td>heavy-constructions-civil-engineering</td>\n",
       "    </tr>\n",
       "    <tr>\n",
       "      <th>4</th>\n",
       "      <td>consumer-non-cyclicals</td>\n",
       "      <td>food-beverage</td>\n",
       "    </tr>\n",
       "  </tbody>\n",
       "</table>\n",
       "</div>"
      ],
      "text/plain": [
       "                    sector                              subsector\n",
       "0  transportation-logistic                         transportation\n",
       "1   properties-real-estate                 properties-real-estate\n",
       "2          infrastructures                      telecommunication\n",
       "3          infrastructures  heavy-constructions-civil-engineering\n",
       "4   consumer-non-cyclicals                          food-beverage"
      ]
     },
     "execution_count": 12,
     "metadata": {},
     "output_type": "execute_result"
    }
   ],
   "source": [
    "import pandas as pd\n",
    "\n",
    "subsectors_df = pd.DataFrame(resp.json())\n",
    "subsectors_df.head()"
   ]
  },
  {
   "cell_type": "markdown",
   "id": "fb0740ad",
   "metadata": {},
   "source": [
    "### 🏢 Companies\n",
    "\n",
    "Selanjutnya, kita akan mengambil daftar perusahaan berdasarkan subsektor. Misalnya kita ingin melihat perusahaan di subsektor **banks**:"
   ]
  },
  {
   "cell_type": "markdown",
   "id": "842cbc50",
   "metadata": {},
   "source": [
    "Tentukan alamat perusahaan"
   ]
  },
  {
   "cell_type": "code",
   "execution_count": 13,
   "id": "9c77f574",
   "metadata": {},
   "outputs": [],
   "source": [
    "url_companies = f\"{BASE_URL}/companies/\""
   ]
  },
  {
   "cell_type": "markdown",
   "id": "c41553b2",
   "metadata": {},
   "source": [
    "Kita perlu menambahkan \"catatan khusus\" pada pesanan kita. Di API, ini disebut '`params`' (parameter)."
   ]
  },
  {
   "cell_type": "code",
   "execution_count": 20,
   "id": "9b494f2c",
   "metadata": {},
   "outputs": [],
   "source": [
    "selected_subsector = \"banks\"\n",
    "params = {\"sub_sector\": selected_subsector}"
   ]
  },
  {
   "cell_type": "markdown",
   "id": "e9a0f35d",
   "metadata": {},
   "source": [
    "Kirim pesanan"
   ]
  },
  {
   "cell_type": "code",
   "execution_count": 21,
   "id": "3dfa0b93",
   "metadata": {},
   "outputs": [],
   "source": [
    "resp = requests.get(url_companies, headers=HEADERS, params=params)"
   ]
  },
  {
   "cell_type": "markdown",
   "id": "f6ed3289",
   "metadata": {},
   "source": [
    "Ubah menjadi `dataframe`:"
   ]
  },
  {
   "cell_type": "code",
   "execution_count": 22,
   "id": "102e9197",
   "metadata": {},
   "outputs": [
    {
     "data": {
      "text/html": [
       "<div>\n",
       "<style scoped>\n",
       "    .dataframe tbody tr th:only-of-type {\n",
       "        vertical-align: middle;\n",
       "    }\n",
       "\n",
       "    .dataframe tbody tr th {\n",
       "        vertical-align: top;\n",
       "    }\n",
       "\n",
       "    .dataframe thead th {\n",
       "        text-align: right;\n",
       "    }\n",
       "</style>\n",
       "<table border=\"1\" class=\"dataframe\">\n",
       "  <thead>\n",
       "    <tr style=\"text-align: right;\">\n",
       "      <th></th>\n",
       "      <th>symbol</th>\n",
       "      <th>company_name</th>\n",
       "      <th>sorted_by</th>\n",
       "    </tr>\n",
       "  </thead>\n",
       "  <tbody>\n",
       "    <tr>\n",
       "      <th>0</th>\n",
       "      <td>AGRO.JK</td>\n",
       "      <td>PT Bank Raya Indonesia Tbk</td>\n",
       "      <td>AGRO.JK</td>\n",
       "    </tr>\n",
       "    <tr>\n",
       "      <th>1</th>\n",
       "      <td>AGRS.JK</td>\n",
       "      <td>PT Bank IBK Indonesia Tbk.</td>\n",
       "      <td>AGRS.JK</td>\n",
       "    </tr>\n",
       "    <tr>\n",
       "      <th>2</th>\n",
       "      <td>AMAR.JK</td>\n",
       "      <td>PT Bank Amar Indonesia Tbk.</td>\n",
       "      <td>AMAR.JK</td>\n",
       "    </tr>\n",
       "    <tr>\n",
       "      <th>3</th>\n",
       "      <td>ARTO.JK</td>\n",
       "      <td>PT Bank Jago Tbk.</td>\n",
       "      <td>ARTO.JK</td>\n",
       "    </tr>\n",
       "    <tr>\n",
       "      <th>4</th>\n",
       "      <td>BABP.JK</td>\n",
       "      <td>PT Bank MNC Internasional Tbk.</td>\n",
       "      <td>BABP.JK</td>\n",
       "    </tr>\n",
       "  </tbody>\n",
       "</table>\n",
       "</div>"
      ],
      "text/plain": [
       "    symbol                    company_name sorted_by\n",
       "0  AGRO.JK      PT Bank Raya Indonesia Tbk   AGRO.JK\n",
       "1  AGRS.JK      PT Bank IBK Indonesia Tbk.   AGRS.JK\n",
       "2  AMAR.JK     PT Bank Amar Indonesia Tbk.   AMAR.JK\n",
       "3  ARTO.JK               PT Bank Jago Tbk.   ARTO.JK\n",
       "4  BABP.JK  PT Bank MNC Internasional Tbk.   BABP.JK"
      ]
     },
     "execution_count": 22,
     "metadata": {},
     "output_type": "execute_result"
    }
   ],
   "source": [
    "companies_df = pd.DataFrame(resp.json())\n",
    "companies_df.head()"
   ]
  },
  {
   "cell_type": "markdown",
   "id": "b32db739",
   "metadata": {},
   "source": [
    "# 🧠 AI-Powered Analysis with LLMs\n",
    "\n",
    "Di module sebelumnya, kita sudah berhasil mengambil data dari API. Sekarang, kita akan masuk ke tahap paling seru: **menggunakan AI (Large Language Model)** untuk membaca dan menginterpretasi data keuangan.\n",
    "\n",
    "LLM memungkinkan kita untuk:\n",
    "\n",
    "* Membuat ringkasan otomatis dari data\n",
    "* Menjawab pertanyaan keuangan\n",
    "* Mendeteksi pola dan risiko\n",
    "\n",
    "Semua bisa dilakukan hanya dengan beberapa baris kode — dan tentu saja dengan bantuan **prompt** (instruksi berbentuk teks).\n",
    "\n",
    "**Introduction to AI-Generated Financial Insights**\n",
    "\n",
    "AI-generated financial insight adalah hasil analisis data keuangan yang dibuat oleh model AI secara otomatis. Dengan bantuan LLM, kita bisa:\n",
    "\n",
    "* Menyusun ringkasan laporan keuangan \n",
    "* Menjelaskan tren grafik \n",
    "* Mengubah data menjadi teks yang mudah dimengerti oleh manusia\n",
    "\n",
    "Ini sangat membantu, terutama untuk kita yang tidak punya latar belakang finansial — karena AI bisa menjelaskan data dalam bahasa yang lebih sederhana dan intuitif."
   ]
  },
  {
   "cell_type": "markdown",
   "id": "d4e4f2db",
   "metadata": {},
   "source": [
    "## 🤖 Why Use AI for Financial Data Interpretation\n",
    "\n",
    "Data keuangan seringkali bersifat kompleks. Tanpa bantuan AI, kita perlu waktu lama untuk:\n",
    "\n",
    "* Membaca angka demi angka dari laporan\n",
    "* Membuat kesimpulan sendiri\n",
    "* Menyusun insight yang berguna\n",
    "\n",
    "Dengan LLM, kita cukup menyiapkan data dan menyusun pertanyaan (prompt), lalu biarkan AI yang mengolahnya. Hasilnya bisa berupa:\n",
    "\n",
    "* Analisis deskriptif\n",
    "* Penjelasan tren\n",
    "* Ringkasan performa perusahaan\n",
    "\n",
    "📌 Ini membuat pekerjaan analis, mahasiswa, bahkan pebisnis jadi jauh lebih cepat dan efisien."
   ]
  },
  {
   "cell_type": "markdown",
   "id": "29ec1e63",
   "metadata": {},
   "source": [
    "### 🔗 LangChain\n",
    "\n",
    "[LangChain](https://python.langchain.com/docs/introduction/) adalah framework Python yang memudahkan kita dalam:\n",
    "\n",
    "* Menyusun prompt\n",
    "* Menghubungkan LLM dengan data kita\n",
    "* Menyusun pipeline otomatis dari input hingga output\n",
    "\n",
    "LangChain sangat cocok untuk membangun alur kerja berbasis LLM, seperti tanya-jawab keuangan, chatbot, atau ringkasan otomatis.\n",
    "\n",
    "### ⚡ Groq\n",
    "\n",
    "[Groq](https://console.groq.com/docs/quickstart) adalah layanan yang menyediakan akses ke model-model LLM super cepat seperti LLaMA 3 dan lainnya. Kita akan menggunakan Groq sebagai penyedia model AI-nya."
   ]
  },
  {
   "cell_type": "markdown",
   "id": "1ae846bf",
   "metadata": {},
   "source": [
    "## ⚙️ Setting Up LangChain and LLMs\n",
    "\n",
    "Untuk memulai, kita perlu mengimpor dua komponen penting: \n",
    "\n",
    "* `langchain_groq`: digunakan untuk menghubungkan LangChain dengan model LLM dari Groq.\n",
    "* `PromptTemplate`: digunakan untuk membuat format pertanyaan atau instruksi yang ingin kita berikan ke AI."
   ]
  },
  {
   "cell_type": "code",
   "execution_count": 23,
   "id": "f79e921d",
   "metadata": {},
   "outputs": [],
   "source": [
    "from langchain_groq import ChatGroq\n",
    "from langchain.prompts import PromptTemplate"
   ]
  },
  {
   "cell_type": "markdown",
   "id": "3561c31f",
   "metadata": {},
   "source": [
    "### 🧪 Inisialisasi Model LLM\n",
    "\n",
    "Sebelum bisa menggunakan LLM, kita perlu menginisiasi model-nya terlebih dahulu. Ini seperti menyalakan mesin sebelum digunakan.\n",
    "\n",
    "Kita butuh 3 parameter utama:\n",
    "* `groq_api_key`: API Key dari Groq yang kita simpan di file `.env`. Digunakan untuk otorisasi.\n",
    "* `model_name`: nama model yang ingin kita gunakan. Di sini kita pakai `\"llama3-70b-8192\"`, yaitu model besar dan canggih dari Meta yang disediakan Groq. Dokumentasi lengkap model Groq bisa dilihat di: [https://console.groq.com/docs](https://console.groq.com/docs)\n",
    "* `temperature`: mengatur tingkat kreativitas jawaban.\n",
    "\n",
    "  * Semakin **rendah** (misalnya 0.0) → jawaban lebih konsisten dan deterministik.\n",
    "  * Semakin **tinggi** (misalnya 1.0) → jawaban lebih kreatif dan bervariasi.\n",
    "\n",
    "📌 Kita menggunakan `0.7` agar hasilnya tetap kreatif namun tidak terlalu liar.\n"
   ]
  },
  {
   "cell_type": "code",
   "execution_count": 25,
   "id": "ed6884fd",
   "metadata": {},
   "outputs": [],
   "source": [
    "GROQ_API_KEY = os.getenv(\"GROQ_API_KEY\")\n",
    "\n",
    "llm = ChatGroq(\n",
    "    temperature=0.7,\n",
    "    model_name=\"llama3-70b-8192\",\n",
    "    groq_api_key=GROQ_API_KEY \n",
    ")"
   ]
  },
  {
   "cell_type": "markdown",
   "id": "bff3f8bc",
   "metadata": {},
   "source": [
    "## 🧱 Building a Prompt-Driven Analysis Pipeline\n",
    "\n",
    "Untuk memahami bagaimana LLM bekerja, mari kita mulai dari contoh **sederhana** di luar konteks keuangan terlebih dahulu.\n",
    "\n",
    "Kita akan menyusun **prompt** (instruksi), lalu melihat bagaimana LLM merespons.\n",
    "\n",
    "LangChain menyediakan fungsi `.invoke()` yang digunakan untuk menjalankan model:"
   ]
  },
  {
   "cell_type": "code",
   "execution_count": 26,
   "id": "89393331",
   "metadata": {},
   "outputs": [
    {
     "name": "stdout",
     "output_type": "stream",
     "text": [
      "API (Application Programming Interface) adalah sebuah sistem yang memungkinkan berbagai aplikasi berkomunikasi dan berbagi data dengan aplikasi lainnya melalui sebuah set instruksi atau protokol yang telah ditentukan.\n"
     ]
    }
   ],
   "source": [
    "# Contoh pemanggilan langsung\n",
    "response = llm.invoke(\"Jelaskan apa itu API dalam satu kalimat singkat.\")\n",
    "print(response.content)"
   ]
  },
  {
   "cell_type": "markdown",
   "id": "5644944b",
   "metadata": {},
   "source": [
    "> 📌 `invoke()` adalah cara cepat untuk meminta jawaban dari LLM berdasarkan prompt (teks perintah) yang kita kirim."
   ]
  },
  {
   "cell_type": "markdown",
   "id": "4b11ab26",
   "metadata": {},
   "source": [
    "### 📄 Menggunakan Prompt Template\n",
    "\n",
    "Kalau kita ingin AI melakukan tugas spesifik berdasarkan pola tertentu, kita bisa membuat *template prompt*."
   ]
  },
  {
   "cell_type": "markdown",
   "id": "2724cd48",
   "metadata": {},
   "source": [
    "Sebagai contoh, kita akan membuat template yang meminta AI untuk menjelaskan sebuah konsep kepada anak berusia 10 tahun."
   ]
  },
  {
   "cell_type": "markdown",
   "id": "0dd2dd64",
   "metadata": {},
   "source": [
    "**1. Buat Template Prompt**\n",
    "\n",
    "Gunakan `PromptTemplate` untuk membuat format prompt dengan variabel dinamis. Perhatikan `{topic}`, ini adalah variabel yang bisa kita isi nanti."
   ]
  },
  {
   "cell_type": "code",
   "execution_count": 32,
   "id": "06bc1c9a",
   "metadata": {},
   "outputs": [],
   "source": [
    "template = PromptTemplate(\n",
    "    input_variables=[\"topic\"],\n",
    "    template=\"Jelaskan konsep '{topic}' seolah-olah saya adalah anak berusia 10 tahun dalam satu kalimat.\"\n",
    ")"
   ]
  },
  {
   "cell_type": "markdown",
   "id": "915d242c",
   "metadata": {},
   "source": [
    "**2. Mengisi Variabel**\n",
    "\n",
    "Isi variabel dinamis yang sudah kita definisikan sebelumnya menggunakan `.format`\n"
   ]
  },
  {
   "cell_type": "code",
   "execution_count": 33,
   "id": "c914edfc",
   "metadata": {},
   "outputs": [],
   "source": [
    "prompt = template.format(topic=\"Laporan Keuangan Tahunan\")"
   ]
  },
  {
   "cell_type": "markdown",
   "id": "7c62211f",
   "metadata": {},
   "source": [
    "**3. Jalankan LLM**\n",
    "\n",
    "Untuk menjalankan LLM dengan prompt hasil template, kita menggunakan `.invoke()`"
   ]
  },
  {
   "cell_type": "code",
   "execution_count": 34,
   "id": "34831d9d",
   "metadata": {},
   "outputs": [
    {
     "data": {
      "text/plain": [
       "'\"Laporan Keuangan Tahunan\" adalah seperti buku catatan yang dibuat oleh perusahaan untuk mencatat semua uang yang mereka dapat dan habiskan dalam satu tahun, seperti kita mencatat uang jajan dan uang saku kita dalam buku catatan, tapi lebih besar dan kompleks!'"
      ]
     },
     "execution_count": 34,
     "metadata": {},
     "output_type": "execute_result"
    }
   ],
   "source": [
    "response = llm.invoke(prompt)\n",
    "response.content"
   ]
  },
  {
   "cell_type": "markdown",
   "id": "c8e4e26f",
   "metadata": {},
   "source": [
    "Kini kita punya pemahaman dasar tentang cara memberi instruksi terstruktur kepada AI. Di modul berikutnya, kita akan mengganti `topic` sederhana ini dengan data keuangan sungguhan untuk menghasilkan analisis yang sebenarnya."
   ]
  },
  {
   "cell_type": "markdown",
   "id": "dc9837c4",
   "metadata": {},
   "source": [
    "Selanjutnya, kita akan menggabungkan **data keuangan dari API** dengan **analisis AI berbasis prompt** dalam konteks nyata."
   ]
  },
  {
   "cell_type": "markdown",
   "id": "3d04627e",
   "metadata": {},
   "source": [
    "## 🔹 Analysis"
   ]
  },
  {
   "cell_type": "markdown",
   "id": "265e3c90",
   "metadata": {},
   "source": [
    "### 1. 💼 Ringkasan Perusahaan (Overview)"
   ]
  },
  {
   "cell_type": "code",
   "execution_count": 3,
   "id": "221bdbc9",
   "metadata": {},
   "outputs": [],
   "source": [
    "symbol = \"BBCA.JK\"\n",
    "url_report = f\"{BASE_URL}/company/report/{symbol}/?sections=overview\""
   ]
  },
  {
   "cell_type": "code",
   "execution_count": 4,
   "id": "ad328825",
   "metadata": {},
   "outputs": [],
   "source": [
    "response_report = requests.get(url_report, headers=HEADERS)\n",
    "report_data = response_report.json()"
   ]
  },
  {
   "cell_type": "code",
   "execution_count": 5,
   "id": "ef546104",
   "metadata": {},
   "outputs": [],
   "source": [
    "# Ekstraksi informasi penting\n",
    "company_name = report_data[\"company_name\"]\n",
    "sector = report_data[\"overview\"][\"sector\"]\n",
    "sub_sector = report_data[\"overview\"][\"sub_sector\"]\n",
    "industry = report_data[\"overview\"][\"industry\"]\n",
    "listing_board = report_data[\"overview\"][\"listing_board\"]\n",
    "listing_date = report_data[\"overview\"][\"listing_date\"]\n",
    "market_cap = report_data[\"overview\"][\"market_cap\"]\n",
    "market_cap_rank = report_data[\"overview\"][\"market_cap_rank\"]\n",
    "close_price = report_data[\"overview\"][\"last_close_price\"]\n",
    "close_date = report_data[\"overview\"][\"latest_close_date\"]\n",
    "daily_change = report_data[\"overview\"][\"daily_close_change\"]\n",
    "employee_num = report_data[\"overview\"].get(\"employee_num\")\n",
    "website = report_data[\"overview\"][\"website\"]\n",
    "email = report_data[\"overview\"][\"email\"]\n",
    "\n",
    "# All-time high/low\n",
    "all_time_high = report_data[\"overview\"][\"all_time_price\"][\"all_time_high\"]\n",
    "all_time_low = report_data[\"overview\"][\"all_time_price\"][\"all_time_low\"]\n",
    "high_price = all_time_high[\"price\"]\n",
    "high_date = all_time_high[\"date\"]\n",
    "low_price = all_time_low[\"price\"]\n",
    "low_date = all_time_low[\"date\"]"
   ]
  },
  {
   "cell_type": "code",
   "execution_count": 6,
   "id": "a53a92c8",
   "metadata": {},
   "outputs": [
    {
     "data": {
      "text/markdown": [
       "\n",
       "### 💼 Ringkasan Perusahaan: PT Bank Central Asia Tbk. (BBCA.JK)\n",
       "\n",
       "- **Sektor/Subsektor**: Financials / Banks\n",
       "- **Industri**: Banks\n",
       "- **Board**: Main\n",
       "- **Tanggal Listing**: 2000-05-31\n",
       "- **Jumlah Karyawan**: 24,685 orang\n",
       "- **Kapitalisasi Pasar**: Rp 1,041,665,330,511,872\n",
       "- **Peringkat Kapitalisasi Pasar**: #2\n",
       "- **Harga Terakhir (2025-07-21)**: Rp 8,450\n",
       "- **Perubahan Harian**: 0.30%\n",
       "- **All-Time High**: Rp 10,950 (pada 2024-09-23)\n",
       "- **All-Time Low**: Rp 175 (pada 2004-06-08)\n",
       "- **Website**: www.bca.co.id\n",
       "- **Email IR**: investor_relations@bca.co.id\n"
      ],
      "text/plain": [
       "<IPython.core.display.Markdown object>"
      ]
     },
     "execution_count": 6,
     "metadata": {},
     "output_type": "execute_result"
    }
   ],
   "source": [
    "from IPython.display import Markdown\n",
    "\n",
    "Markdown(f\"\"\"\n",
    "### 💼 Ringkasan Perusahaan: {company_name} ({symbol})\n",
    "\n",
    "- **Sektor/Subsektor**: {sector} / {sub_sector}\n",
    "- **Industri**: {industry}\n",
    "- **Board**: {listing_board}\n",
    "- **Tanggal Listing**: {listing_date}\n",
    "- **Jumlah Karyawan**: {int(employee_num):,} orang\n",
    "- **Kapitalisasi Pasar**: Rp {market_cap:,.0f}\n",
    "- **Peringkat Kapitalisasi Pasar**: #{market_cap_rank}\n",
    "- **Harga Terakhir ({close_date})**: Rp {close_price:,}\n",
    "- **Perubahan Harian**: {daily_change:.2%}\n",
    "- **All-Time High**: Rp {high_price:,} (pada {high_date})\n",
    "- **All-Time Low**: Rp {low_price:,} (pada {low_date})\n",
    "- **Website**: {website}\n",
    "- **Email IR**: {email}\n",
    "\"\"\")\n"
   ]
  },
  {
   "cell_type": "markdown",
   "id": "7bdc804c",
   "metadata": {},
   "source": [
    "### 2. 🤖 Financial Summary (AI-generated dengan Groq)"
   ]
  },
  {
   "cell_type": "code",
   "execution_count": null,
   "id": "c7b9cc2b",
   "metadata": {},
   "outputs": [],
   "source": [
    "from langchain_groq import ChatGroq\n",
    "from langchain.prompts import PromptTemplate\n",
    "\n",
    "# Inisialisasi LLM dengan LangChain Groq\n",
    "llm = ChatGroq(\n",
    "    temperature=0.7,\n",
    "    model_name=\"llama3-70b-8192\",\n",
    "    groq_api_key=GROQ_API_KEY \n",
    ")"
   ]
  },
  {
   "cell_type": "markdown",
   "id": "148dd176",
   "metadata": {},
   "source": [
    "#### Ambil Laporan Keuangan Salah Satu Perusahaan"
   ]
  },
  {
   "cell_type": "code",
   "execution_count": 8,
   "id": "5eeba986",
   "metadata": {},
   "outputs": [],
   "source": [
    "symbol = \"BBCA.JK\"\n",
    "url_fin = f\"{BASE_URL}/financials/quarterly/{symbol}/\"\n",
    "params = {\n",
    "    \"report_date\": \"2025-06-30\",\n",
    "    \"approx\": \"true\",\n",
    "    \"n_quarters\": \"4\"\n",
    "}\n",
    "\n",
    "response = requests.get(url_fin, headers=HEADERS, params=params)\n",
    "financials = pd.DataFrame(response.json())"
   ]
  },
  {
   "cell_type": "code",
   "execution_count": 9,
   "id": "a431481d",
   "metadata": {},
   "outputs": [
    {
     "data": {
      "text/html": [
       "<div>\n",
       "<style scoped>\n",
       "    .dataframe tbody tr th:only-of-type {\n",
       "        vertical-align: middle;\n",
       "    }\n",
       "\n",
       "    .dataframe tbody tr th {\n",
       "        vertical-align: top;\n",
       "    }\n",
       "\n",
       "    .dataframe thead th {\n",
       "        text-align: right;\n",
       "    }\n",
       "</style>\n",
       "<table border=\"1\" class=\"dataframe\">\n",
       "  <thead>\n",
       "    <tr style=\"text-align: right;\">\n",
       "      <th></th>\n",
       "      <th>symbol</th>\n",
       "      <th>financials_sector_metrics</th>\n",
       "      <th>date</th>\n",
       "      <th>premium_income</th>\n",
       "      <th>premium_expense</th>\n",
       "      <th>net_premium_income</th>\n",
       "      <th>non_interest_income</th>\n",
       "      <th>revenue</th>\n",
       "      <th>operating_expense</th>\n",
       "      <th>provision</th>\n",
       "      <th>...</th>\n",
       "      <th>cash_and_short_term_investments</th>\n",
       "      <th>non_loan_assets</th>\n",
       "      <th>total_current_asset</th>\n",
       "      <th>total_non_current_liabilities</th>\n",
       "      <th>financing_cash_flow</th>\n",
       "      <th>operating_cash_flow</th>\n",
       "      <th>investing_cash_flow</th>\n",
       "      <th>net_cash_flow</th>\n",
       "      <th>free_cash_flow</th>\n",
       "      <th>realized_capital_goods_investment</th>\n",
       "    </tr>\n",
       "  </thead>\n",
       "  <tbody>\n",
       "    <tr>\n",
       "      <th>0</th>\n",
       "      <td>BBCA.JK</td>\n",
       "      <td>{'interest_income': 24366718000000, 'interest_...</td>\n",
       "      <td>2025-03-31</td>\n",
       "      <td>None</td>\n",
       "      <td>None</td>\n",
       "      <td>None</td>\n",
       "      <td>7.005767e+12</td>\n",
       "      <td>34620643000000</td>\n",
       "      <td>9.637633e+12</td>\n",
       "      <td>-1.031032e+12</td>\n",
       "      <td>...</td>\n",
       "      <td>None</td>\n",
       "      <td>None</td>\n",
       "      <td>None</td>\n",
       "      <td>None</td>\n",
       "      <td>-2.180000e+09</td>\n",
       "      <td>35183351000000</td>\n",
       "      <td>-4.300805e+12</td>\n",
       "      <td>3.088037e+13</td>\n",
       "      <td>NaN</td>\n",
       "      <td>None</td>\n",
       "    </tr>\n",
       "    <tr>\n",
       "      <th>1</th>\n",
       "      <td>BBCA.JK</td>\n",
       "      <td>{'interest_income': 24508454000000, 'interest_...</td>\n",
       "      <td>2024-12-31</td>\n",
       "      <td>None</td>\n",
       "      <td>None</td>\n",
       "      <td>None</td>\n",
       "      <td>6.438343e+12</td>\n",
       "      <td>34123858000000</td>\n",
       "      <td>1.073078e+13</td>\n",
       "      <td>3.326360e+11</td>\n",
       "      <td>...</td>\n",
       "      <td>None</td>\n",
       "      <td>None</td>\n",
       "      <td>None</td>\n",
       "      <td>None</td>\n",
       "      <td>-4.754295e+12</td>\n",
       "      <td>-20362764000000</td>\n",
       "      <td>9.151282e+12</td>\n",
       "      <td>-1.596578e+13</td>\n",
       "      <td>NaN</td>\n",
       "      <td>None</td>\n",
       "    </tr>\n",
       "    <tr>\n",
       "      <th>2</th>\n",
       "      <td>BBCA.JK</td>\n",
       "      <td>{'interest_income': 24210090000000, 'interest_...</td>\n",
       "      <td>2024-09-30</td>\n",
       "      <td>None</td>\n",
       "      <td>None</td>\n",
       "      <td>None</td>\n",
       "      <td>6.826009e+12</td>\n",
       "      <td>34208761000000</td>\n",
       "      <td>9.278376e+12</td>\n",
       "      <td>-9.613730e+11</td>\n",
       "      <td>...</td>\n",
       "      <td>None</td>\n",
       "      <td>None</td>\n",
       "      <td>None</td>\n",
       "      <td>None</td>\n",
       "      <td>1.050000e+08</td>\n",
       "      <td>27345976000000</td>\n",
       "      <td>-3.842810e+13</td>\n",
       "      <td>-1.108202e+13</td>\n",
       "      <td>2.579341e+13</td>\n",
       "      <td>None</td>\n",
       "    </tr>\n",
       "    <tr>\n",
       "      <th>3</th>\n",
       "      <td>BBCA.JK</td>\n",
       "      <td>{'interest_income': None, 'interest_expense': ...</td>\n",
       "      <td>2024-06-30</td>\n",
       "      <td>None</td>\n",
       "      <td>None</td>\n",
       "      <td>None</td>\n",
       "      <td>NaN</td>\n",
       "      <td>26832797000000</td>\n",
       "      <td>NaN</td>\n",
       "      <td>NaN</td>\n",
       "      <td>...</td>\n",
       "      <td>None</td>\n",
       "      <td>None</td>\n",
       "      <td>None</td>\n",
       "      <td>None</td>\n",
       "      <td>NaN</td>\n",
       "      <td>16915407000000</td>\n",
       "      <td>NaN</td>\n",
       "      <td>NaN</td>\n",
       "      <td>1.653835e+13</td>\n",
       "      <td>None</td>\n",
       "    </tr>\n",
       "  </tbody>\n",
       "</table>\n",
       "<p>4 rows × 40 columns</p>\n",
       "</div>"
      ],
      "text/plain": [
       "    symbol                          financials_sector_metrics        date  \\\n",
       "0  BBCA.JK  {'interest_income': 24366718000000, 'interest_...  2025-03-31   \n",
       "1  BBCA.JK  {'interest_income': 24508454000000, 'interest_...  2024-12-31   \n",
       "2  BBCA.JK  {'interest_income': 24210090000000, 'interest_...  2024-09-30   \n",
       "3  BBCA.JK  {'interest_income': None, 'interest_expense': ...  2024-06-30   \n",
       "\n",
       "  premium_income premium_expense net_premium_income  non_interest_income  \\\n",
       "0           None            None               None         7.005767e+12   \n",
       "1           None            None               None         6.438343e+12   \n",
       "2           None            None               None         6.826009e+12   \n",
       "3           None            None               None                  NaN   \n",
       "\n",
       "          revenue  operating_expense     provision  ...  \\\n",
       "0  34620643000000       9.637633e+12 -1.031032e+12  ...   \n",
       "1  34123858000000       1.073078e+13  3.326360e+11  ...   \n",
       "2  34208761000000       9.278376e+12 -9.613730e+11  ...   \n",
       "3  26832797000000                NaN           NaN  ...   \n",
       "\n",
       "   cash_and_short_term_investments  non_loan_assets  total_current_asset  \\\n",
       "0                             None             None                 None   \n",
       "1                             None             None                 None   \n",
       "2                             None             None                 None   \n",
       "3                             None             None                 None   \n",
       "\n",
       "   total_non_current_liabilities  financing_cash_flow  operating_cash_flow  \\\n",
       "0                           None        -2.180000e+09       35183351000000   \n",
       "1                           None        -4.754295e+12      -20362764000000   \n",
       "2                           None         1.050000e+08       27345976000000   \n",
       "3                           None                  NaN       16915407000000   \n",
       "\n",
       "  investing_cash_flow net_cash_flow free_cash_flow  \\\n",
       "0       -4.300805e+12  3.088037e+13            NaN   \n",
       "1        9.151282e+12 -1.596578e+13            NaN   \n",
       "2       -3.842810e+13 -1.108202e+13   2.579341e+13   \n",
       "3                 NaN           NaN   1.653835e+13   \n",
       "\n",
       "  realized_capital_goods_investment  \n",
       "0                              None  \n",
       "1                              None  \n",
       "2                              None  \n",
       "3                              None  \n",
       "\n",
       "[4 rows x 40 columns]"
      ]
     },
     "execution_count": 9,
     "metadata": {},
     "output_type": "execute_result"
    }
   ],
   "source": [
    "financials"
   ]
  },
  {
   "cell_type": "code",
   "execution_count": 10,
   "id": "00d5c1c2",
   "metadata": {},
   "outputs": [],
   "source": [
    "prompt_template = PromptTemplate.from_template(\"\"\"\n",
    "Berikut adalah laporan keuangan kuartalan sebuah perusahaan (dalam miliar rupiah):\n",
    "\n",
    "{data}\n",
    "\n",
    "Tuliskan ringkasan keuangan dalam 3 kalimat, seolah-olah Anda menjelaskan kepada investor.\n",
    "\"\"\")"
   ]
  },
  {
   "cell_type": "code",
   "execution_count": 11,
   "id": "822258b8",
   "metadata": {},
   "outputs": [],
   "source": [
    "prompt = prompt_template.format(data=financials)\n"
   ]
  },
  {
   "cell_type": "code",
   "execution_count": 12,
   "id": "1f6b2d62",
   "metadata": {},
   "outputs": [
    {
     "name": "stdout",
     "output_type": "stream",
     "text": [
      "🧠 Ringkasan Keuangan oleh LLM:\n",
      "Berikut adalah ringkasan keuangan BBCA.JK dalam 3 kalimat:\n",
      "\n",
      "Pada kuartal terakhir, perusahaan kami mencatat pendapatan sebesar Rp 34,62 triliun, dengan biaya operasional sebesar Rp 10,73 triliun dan penyisihan sebesar Rp 3,33 triliun. Arus kas operasional kami mencapai Rp 35,18 triliun, dengan arus kas investasi sebesar Rp -4,30 triliun dan arus kas pendanaan sebesar Rp -2,18 triliun. Secara keseluruhan, perusahaan kami menunjukkan kinerja keuangan yang stabil dan seimbang, dengan posisi kas yang kuat dan kemampuan untuk menghasilkan arus kas yang positif.\n"
     ]
    }
   ],
   "source": [
    "# Generate ringkasan dari LLM\n",
    "ringkasan_llm = llm.invoke(prompt)\n",
    "print(\"🧠 Ringkasan Keuangan oleh LLM:\")\n",
    "print(ringkasan_llm.content)\n"
   ]
  },
  {
   "cell_type": "markdown",
   "id": "66293bf1",
   "metadata": {},
   "source": [
    "```\n",
    "content='Berikut adalah ringkasan keuangan perusahaan:\\n\\nPerusahaan kami telah mencatat pendapatan sebesar ...'\n",
    "additional_kwargs={}\n",
    "response_metadata={...}\n",
    "id='run--...'\n",
    "usage_metadata={...}\n",
    "```\n",
    "\n",
    "\n",
    "- `content`: ✅ Ini isi teks (yang kamu butuhkan)\n",
    "- `response_metadata`, `usage_metadata`: berguna untuk logging dan analitik\n",
    "- `id`: ID sesi/panggilan LLM"
   ]
  },
  {
   "cell_type": "markdown",
   "id": "4fd81c94",
   "metadata": {},
   "source": [
    "### 3. 📈 AI-Based Trend Visualization"
   ]
  },
  {
   "cell_type": "code",
   "execution_count": 68,
   "id": "bbe908f5",
   "metadata": {},
   "outputs": [],
   "source": [
    "template_viz = \"\"\"\n",
    "Berikut ini adalah data ringkasan finansial perusahaan (dalam format tabel):\n",
    "\n",
    "{data}\n",
    "\n",
    "Buatlah kode Python untuk menampilkan line plot dengan:\n",
    "- Sumbu x = kolom 'date'\n",
    "- Sumbu y = kolom 'revenue'\n",
    "- Gunakan matplotlib\n",
    "- Judul grafik: \"Trend Revenue Perusahaan\"\n",
    "- Ukuran gambar diperbesar agar jelas\n",
    "Jangan tampilkan penjelasan, hanya berikan kodenya saja.\n",
    "\"\"\""
   ]
  },
  {
   "cell_type": "code",
   "execution_count": 76,
   "id": "e0444f3d",
   "metadata": {},
   "outputs": [],
   "source": [
    "sample_data_viz = financials[['date', 'revenue']].dropna().to_string(index=False)"
   ]
  },
  {
   "cell_type": "code",
   "execution_count": 77,
   "id": "4d9865cd",
   "metadata": {},
   "outputs": [
    {
     "name": "stdout",
     "output_type": "stream",
     "text": [
      "```\n",
      "import matplotlib.pyplot as plt\n",
      "import pandas as pd\n",
      "\n",
      "data = {'date': ['2025-03-31', '2024-12-31', '2024-09-30', '2024-06-30'], \n",
      "        'revenue': [34620643000000, 34123858000000, 34208761000000, 26832797000000]}\n",
      "df = pd.DataFrame(data)\n",
      "\n",
      "plt.figure(figsize=(10,6))\n",
      "plt.plot(df['date'], df['revenue'])\n",
      "plt.title(\"Trend Revenue Perusahaan\")\n",
      "plt.xlabel('Date')\n",
      "plt.ylabel('Revenue')\n",
      "plt.show()\n",
      "```\n"
     ]
    }
   ],
   "source": [
    "llm_viz = llm.invoke(template_viz.format(data=sample_data_viz))\n",
    "print(llm_viz.content)"
   ]
  },
  {
   "cell_type": "code",
   "execution_count": 78,
   "id": "11d2a684",
   "metadata": {},
   "outputs": [
    {
     "data": {
      "image/png": "[encoded data removed]",
      "text/plain": [
       "<Figure size 1000x600 with 1 Axes>"
      ]
     },
     "metadata": {},
     "output_type": "display_data"
    }
   ],
   "source": [
    "clean_code = llm_viz.content.strip().strip(\"```\").replace(\"python\", \"\").strip()\n",
    "exec(clean_code)"
   ]
  },
  {
   "cell_type": "markdown",
   "id": "d32e3c71",
   "metadata": {},
   "source": [
    "### 4. 🔎 AI-Based Trend Interpreter"
   ]
  },
  {
   "cell_type": "code",
   "execution_count": 14,
   "id": "fbf29767",
   "metadata": {},
   "outputs": [],
   "source": [
    "prompt_tren = f\"\"\"\n",
    "Berikut adalah data tren keuangan kuartalan perusahaan (dalam miliar rupiah):\n",
    "\n",
    "{financials}\n",
    "\n",
    "Analisis tren yang muncul dari data tersebut. Fokus pada perubahan revenue, net income, dan operating cashflow.\n",
    "Buat ringkasan dalam betuk 2-3 poin.\n",
    "\"\"\""
   ]
  },
  {
   "cell_type": "code",
   "execution_count": 15,
   "id": "8cbe930a",
   "metadata": {},
   "outputs": [
    {
     "name": "stdout",
     "output_type": "stream",
     "text": [
      "🔎 Interpretasi Tren oleh LLM:\n",
      "Based on the provided financial data, here are 2-3 key points summarizing the trends:\n",
      "\n",
      "**Revenue Trend:**\n",
      "The revenue has been relatively stable, with a slight increase from Q2 2024 to Q3 2024, but then a significant decrease in Q1 2025.\n",
      "\n",
      "**Net Income Trend:**\n",
      "Since the net income data is not provided, we can look at the operating cash flow as a proxy. The operating cash flow has been volatile, with a significant decrease in Q4 2024, followed by a recovery in Q1 2025.\n",
      "\n",
      "**Operating Cash Flow Trend:**\n",
      "The operating cash flow has been fluctuating, but overall, it has been increasing. There was a significant drop in Q4 2024, but it recovered in Q1 2025. The operating cash flow in Q1 2025 is the highest among the four quarters.\n",
      "\n",
      "Please note that these trends are based on limited data and may not be representative of the company's overall performance.\n"
     ]
    }
   ],
   "source": [
    "interpretasi_tren = llm.invoke(prompt_tren)\n",
    "print(\"🔎 Interpretasi Tren oleh LLM:\")\n",
    "print(interpretasi_tren.content)"
   ]
  },
  {
   "cell_type": "markdown",
   "id": "729a9eff",
   "metadata": {},
   "source": [
    "### 5. ⚠️ Financial Risk Detector"
   ]
  },
  {
   "cell_type": "code",
   "execution_count": 16,
   "id": "1565f7da",
   "metadata": {},
   "outputs": [],
   "source": [
    "prompt_risiko = f\"\"\"\n",
    "Berikut adalah data keuangan kuartalan:\n",
    "\n",
    "{financials}\n",
    "\n",
    "Apa potensi risiko yang perlu diwaspadai dari perusahaan ini? Sebutkan dalam 2-3 poin.\n",
    "\"\"\""
   ]
  },
  {
   "cell_type": "code",
   "execution_count": 17,
   "id": "22bb9b1c",
   "metadata": {},
   "outputs": [
    {
     "name": "stdout",
     "output_type": "stream",
     "text": [
      "⚠️ Potensi Risiko:\n",
      "Based on the financial data provided, here are 2-3 potential risks that need to be watched out for:\n",
      "\n",
      "1. **Liquidity Risk**: The company's cash and short-term investments are not reported, which raises concerns about its ability to meet its short-term obligations. Additionally, the operating cash flow has been volatile, with a significant decrease in Q4 2024 compared to Q3 2024. This could indicate that the company may struggle to generate sufficient cash to meet its needs.\n",
      "2. **Provisioning Risk**: The provision expense has been increasing, which may indicate that the company is expecting a higher likelihood of loan defaults or other losses. This could be a sign of deteriorating asset quality, which could negatively impact the company's financial performance.\n",
      "3. **Volatility in Revenue and Expenses**: The company's revenue and operating expenses have been volatile, with significant changes from one quarter to another. This could indicate that the company's business is subject to significant fluctuations, which could make it difficult to predict its future financial performance.\n",
      "\n",
      "These risks are not exhaustive, but they are potential areas of concern based on the available data.\n"
     ]
    }
   ],
   "source": [
    "llm_risiko = llm.invoke(prompt_risiko)\n",
    "print(\"⚠️ Potensi Risiko:\")\n",
    "print(llm_risiko.content)"
   ]
  },
  {
   "cell_type": "code",
   "execution_count": 18,
   "id": "ebd47de3",
   "metadata": {},
   "outputs": [],
   "source": [
    "prompt_risiko_2 = f\"\"\"\n",
    "Berikut adalah data keuangan perusahaan:\n",
    "\n",
    "{financials.to_csv(index=False)}\n",
    "\n",
    "Tugas Anda adalah:\n",
    "- Identifikasi dan jelaskan risiko keuangan perusahaan ini.\n",
    "- Tulis dengan bahasa yang mudah dimengerti, seperti menjelaskan ke investor awam.\n",
    "- Sorot setiap risiko utama dengan simbol ❗\n",
    "- Tulis maksimal 3 poin.\n",
    "\"\"\"\n"
   ]
  },
  {
   "cell_type": "code",
   "execution_count": 19,
   "id": "3b130a3e",
   "metadata": {},
   "outputs": [
    {
     "name": "stdout",
     "output_type": "stream",
     "text": [
      "⚠️ Potensi Risiko:\n",
      "Here are the identified financial risks of the company and explanations in simple language, suitable for retail investors:\n",
      "\n",
      "**Risks:**\n",
      "\n",
      "1. **Liquidity Risk ❗**: The company's ability to meet its short-term financial obligations is at risk due to its high current liabilities (Rp 280.32 trillion) compared to its current assets (Rp 153.37 trillion). This means that the company may struggle to pay its debts on time, which can lead to financial difficulties.\n",
      "2. **Credit Risk ❗**: The company's net loan portfolio is substantial (Rp 952.64 trillion), and the allowance for loan losses is significant (Rp 33.00 trillion). This indicates that the company may face difficulties in collecting debts from its borrowers, which can negatively impact its financial performance.\n",
      "3. **Interest Rate Risk ❗**: The company's interest income (Rp 24.37 trillion) is significantly higher than its interest expense (Rp 3.25 trillion). This means that the company is highly dependent on interest income, and changes in interest rates can significantly impact its financial performance.\n",
      "\n",
      "These risks can have a significant impact on the company's financial performance and stability. As an investor, it's essential to monitor these risks and assess their potential impact on the company's future performance.\n"
     ]
    }
   ],
   "source": [
    "llm_risiko = llm.invoke(prompt_risiko_2)\n",
    "print(\"⚠️ Potensi Risiko:\")\n",
    "print(llm_risiko.content)"
   ]
  },
  {
   "cell_type": "markdown",
   "id": "3d210983",
   "metadata": {},
   "source": [
    "\n",
    "# **AI-Powered Financial Insights: Harnessing LLMs for a Competitive Edge in the Market**\n",
    "\n",
    "## Getting Started\n",
    "\n",
    "### What is AI-Powered Financial Insight?\n",
    "\n",
    "### Why Use Large Language Models (LLMs) in Finance?\n",
    "\n",
    "### Course Objectives and Learning Outcomes\n",
    "\n",
    "### The Workflow: A Roadmap from Raw Data to Interactive Dashboard\n",
    "\n",
    "### Tools and Technologies Overview\n",
    "\n",
    "  - Python\n",
    "  - Jupyter Notebook\n",
    "  - Streamlit\n",
    "  - LangChain & Groq\n",
    "  - Sectors API\n",
    "\n",
    "---\n",
    "\n",
    "# Getting Financial Data via API\n",
    "\n",
    "## What is an API and How It Works\n",
    "\n",
    "## Introduction to the Sectors API\n",
    "\n",
    "## Step 1: Obtaining Your Personal API Key\n",
    "\n",
    "## Step 2: Setting Up Your Python Environment (Jupyter Notebook)\n",
    "\n",
    "## Step 3: Making Your First API Request to Fetch Company Data\n",
    "\n",
    "## Step 4: Extracting and Loading Financial Data into Jupyter Notebook\n",
    "\n",
    "---\n",
    "\n",
    "# AI-Powered Analysis with LLMs\n",
    "\n",
    "## Introduction to AI-Generated Financial Insights\n",
    "\n",
    "## Why Use AI for Financial Data Interpretation\n",
    "\n",
    "## Overview of LLM Tools\n",
    "\n",
    "### LangChain\n",
    "### Groq\n",
    "\n",
    "## Setting Up LangChain and LLMs\n",
    "\n",
    "## Building a Prompt-Driven Analysis Pipeline\n",
    "\n",
    "---\n",
    "\n",
    "# Exploring Financial Insights\n",
    "\n",
    "## Preparing Data for the LLM\n",
    "\n",
    "### 1. Generating a Dynamic Company Overview\n",
    "\n",
    "### 2. Creating an Automated Financial Summary\n",
    "\n",
    "### 3. Visualizing Revenue Trends\n",
    "\n",
    "### 4. Interpreting Key Financial Trends\n",
    "\n",
    "### 5. Detecting Potential Financial Risks\n",
    "\n",
    "---\n",
    "\n",
    "# Dashboard Implementation with Streamlit\n",
    "\n",
    "### Introduction to Streamlit\n",
    "\n",
    "### Setting Up Streamlit App Structure\n",
    "\n",
    "### Integrating API Data into the Dashboard\n",
    "\n",
    "### Embedding LLM-Based Insights\n",
    "\n",
    "### Deploying Financial Insights Dashboard\n",
    "\n",
    "\n",
    "---\n",
    "\n"
   ]
  },
  {
   "cell_type": "markdown",
   "id": "7f70b1ce",
   "metadata": {},
   "source": [
    "\n",
    "\n",
    "## 💡 Introduction to AI-Generated Financial Insights\n",
    "\n",
    "AI-generated financial insight adalah hasil analisis data keuangan yang dibuat oleh model AI secara otomatis. Dengan bantuan LLM, kita bisa:\n",
    "\n",
    "* Menyusun ringkasan laporan keuangan \n",
    "* Menjelaskan tren grafik \n",
    "* Mengubah data menjadi teks yang mudah dimengerti oleh manusia\n",
    "\n",
    "Ini sangat membantu, terutama untuk kita yang tidak punya latar belakang finansial — karena AI bisa menjelaskan data dalam bahasa yang lebih sederhana dan intuitif.\n",
    "\n",
    "---\n",
    "\n",
    "## 🤖 Why Use AI for Financial Data Interpretation\n",
    "\n",
    "Data keuangan seringkali bersifat kompleks. Tanpa bantuan AI, kita perlu wktu lama untuk:\n",
    "\n",
    "* Membaca angka demi angka dari laporan\n",
    "* Membuat kesimpulan sendiri\n",
    "* Menyusun insight yang berguna\n",
    "\n",
    "Dengan LLM, kita cukup menyiapkan data dan menyusun pertanyaan (prompt), lalu biarkan AI yang mengolahnya. Hasilnya bisa berupa:\n",
    "\n",
    "* Analisis deskriptif\n",
    "* Penjelasan tren\n",
    "* Ringkasan performa perusahaan\n",
    "\n",
    "📌 Ini membuat pekerjaan analis, mahasiswa, bahkan pebisnis jadi jauh lebih cepat dan efisien.\n",
    "\n",
    "---\n",
    "\n",
    "## 🧰 Overview of LLM Tools\n",
    "\n",
    "Untuk bisa menggunakan AI dalam proyek kita, ada dua alat utama yang akan kita gunakan:\n",
    "\n",
    "### 🔗 LangChain\n",
    "\n",
    "LangChain adalah framework Python yang memudahkan kita dalam:\n",
    "\n",
    "* Menyusun prompt\n",
    "* Menghubungkan LLM dengan data kita\n",
    "* Menyusun pipeline otomatis dari input hingga output\n",
    "\n",
    "LangChain sangat cocok untuk membangun alur kerja berbasis LLM, seperti tanya-jawab keuangan, chatbot, atau ringkasan otomatis.\n",
    "\n",
    "### ⚡ **Groq**\n",
    "\n",
    "Groq adalah layanan yang menyediakan akses ke model-model LLM super cepat seperti LLaMA 3 dan lainnya. Kita akan menggunakan Groq sebagai penyedia model AI-nya.\n",
    "\n",
    "---\n",
    "\n",
    "## ⚙️ Setting Up LangChain and LLMs\n",
    "\n",
    "Untuk memulai, kita perlu mengimpor dua komponen penting:\n",
    "\n",
    "```python\n",
    "from langchain_groq import ChatGroq\n",
    "from langchain.prompts import PromptTemplate\n",
    "```\n",
    "\n",
    "Penjelasan:\n",
    "\n",
    "* `langchain_groq`: digunakan untuk menghubungkan LangChain dengan model LLM dari Groq.\n",
    "* `PromptTemplate`: digunakan untuk membuat format pertanyaan atau instruksi yang ingin kita berikan ke AI.\n",
    "\n",
    "---\n",
    "\n",
    "### 🧪 Inisialisasi Model LLM\n",
    "\n",
    "Sebelum bisa menggunakan LLM, kita perlu menginisiasi model-nya terlebih dahulu. Ini seperti menyalakan mesin sebelum digunakan.\n",
    "\n",
    "Kita butuh 3 parameter utama:\n",
    "\n",
    "```python\n",
    "GROQ_API_KEY = os.getenv(\"GROQ_API_KEY\")\n",
    "\n",
    "llm = ChatGroq(\n",
    "    temperature=0.7,\n",
    "    model_name=\"llama3-70b-8192\",\n",
    "    groq_api_key=GROQ_API_KEY \n",
    ")\n",
    "```\n",
    "\n",
    "Penjelasan parameter:\n",
    "\n",
    "* `groq_api_key`: API Key dari Groq yang kita simpan di file `.env`. Digunakan untuk otorisasi.\n",
    "* `model_name`: nama model yang ingin kita gunakan. Di sini kita pakai `\"llama3-70b-8192\"`, yaitu model besar dan canggih dari Meta yang disediakan Groq. Dokumentasi lengkap model Groq bisa dilihat di: [https://console.groq.com/docs](https://console.groq.com/docs)\n",
    "* `temperature`: mengatur tingkat kreativitas jawaban.\n",
    "\n",
    "  * Semakin **rendah** (misalnya 0.0) → jawaban lebih konsisten dan deterministik.\n",
    "  * Semakin **tinggi** (misalnya 1.0) → jawaban lebih kreatif dan bervariasi.\n",
    "\n",
    "📌 Kita menggunakan `0.7` agar hasilnya tetap kreatif namun tidak terlalu liar.\n",
    "\n",
    "---\n",
    "\n",
    "## 🧱 Building a Prompt-Driven Analysis Pipeline\n",
    "\n",
    "Untuk memahami bagaimana LLM bekerja, mari kita mulai dari contoh **sederhana** di luar konteks keuangan terlebih dahulu.\n",
    "\n",
    "Kita akan menyusun **prompt** (instruksi), lalu melihat bagaimana LLM merespons.\n",
    "\n",
    "LangChain menyediakan fungsi `.invoke()` yang digunakan untuk menjalankan model:\n",
    "\n",
    "```python\n",
    "response = llm.invoke(\"What are the top 3 largest animals?\")\n",
    "print(response)\n",
    "```\n",
    "\n",
    "📌 `invoke()` adalah cara cepat untuk meminta jawaban dari LLM berdasarkan prompt (teks perintah) yang kita kirim.\n",
    "\n",
    "---\n",
    "\n",
    "### 📄 Menggunakan Prompt Template\n",
    "\n",
    "Kalau kita ingin AI melakukan tugas spesifik berdasarkan pola tertentu, kita bisa membuat *template prompt*. Contoh:\n",
    "\n",
    "```python\n",
    "template = PromptTemplate(\n",
    "    input_variables=[\"company\"],\n",
    "    template=\"Summarize the financial performance of {company} in simple terms.\"\n",
    ")\n",
    "\n",
    "prompt = template.format(company=\"Tesla\")\n",
    "response = llm.invoke(prompt)\n",
    "print(response)\n",
    "```\n",
    "\n",
    "Penjelasan:\n",
    "\n",
    "* `PromptTemplate`: membuat format prompt dengan variabel dinamis.\n",
    "* `.format(company=\"Tesla\")`: mengisi bagian `{company}` dengan nama perusahaan.\n",
    "* `.invoke(prompt)`: menjalankan LLM dengan prompt hasil template.\n",
    "\n",
    "📌 Teknik ini akan sangat berguna saat nanti kita menganalisis banyak perusahaan secara otomatis.\n",
    "\n",
    "---\n",
    "\n",
    "✅ **Kesimpulan Module 3**:\n",
    "\n",
    "* Kita sudah mengenal tools AI: LangChain & Groq ⚙️\n",
    "* Belajar inisialisasi model LLM dan menggunakan prompt dasar 💬\n",
    "* Menjalankan LLM menggunakan `.invoke()` 🚀\n",
    "* Menggunakan `PromptTemplate` untuk membuat prompt dinamis 📄\n",
    "\n",
    "Selanjutnya, kita akan menggabungkan **data keuangan dari API** dengan **analisis AI berbasis prompt** dalam konteks nyata.\n",
    "\n",
    "Siap lanjut ke **Module 4: Exploring Financial Insights**? 💼📊\n"
   ]
  }
 ],
 "metadata": {
  "kernelspec": {
   "display_name": "zeus_da",
   "language": "python",
   "name": "python3"
  },
  "language_info": {
   "codemirror_mode": {
    "name": "ipython",
    "version": 3
   },
   "file_extension": ".py",
   "mimetype": "text/x-python",
   "name": "python",
   "nbconvert_exporter": "python",
   "pygments_lexer": "ipython3",
   "version": "3.12.0"
  }
 },
 "nbformat": 4,
 "nbformat_minor": 5
}
